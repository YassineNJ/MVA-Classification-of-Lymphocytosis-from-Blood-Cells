{
  "nbformat": 4,
  "nbformat_minor": 0,
  "metadata": {
    "colab": {
      "name": "Deep-Learning MIL.ipynb",
      "provenance": [],
      "collapsed_sections": [
        "zzHQg5btQU8m",
        "GCPA0R72Z-_h",
        "ZQpfhPlaaWUk",
        "ZTVvRCbmanKR"
      ]
    },
    "kernelspec": {
      "name": "python3",
      "display_name": "Python 3"
    },
    "accelerator": "GPU"
  },
  "cells": [
    {
      "cell_type": "markdown",
      "metadata": {
        "id": "DYx5UCdHOwwE"
      },
      "source": [
        "<font color=red> **Team name: The WAY**\n",
        "\n",
        "**Students: Wassim BOUATAY - Amrou CHOUCHENE - Yassine NAJI**\n",
        "</font>"
      ]
    },
    {
      "cell_type": "markdown",
      "metadata": {
        "id": "w3XgnKJ-KLjN"
      },
      "source": [
        "# Import libraries and Mount the drive"
      ]
    },
    {
      "cell_type": "code",
      "metadata": {
        "id": "nZCMmwIOKDUL"
      },
      "source": [
        "from google.colab import drive\n",
        "import os\n",
        "import h5py\n",
        "from PIL import Image\n",
        "import pandas as pd\n",
        "from skimage import io\n",
        "import torchvision\n",
        "import numpy as np\n",
        "import matplotlib.pyplot as plt\n",
        "import seaborn as sns\n",
        "from PIL import Image\n",
        "import shutil\n",
        "from datetime import date\n",
        "from sklearn.model_selection import train_test_split\n",
        "from sklearn.metrics import balanced_accuracy_score ,accuracy_score, f1_score, precision_score, recall_score\n",
        "import torchvision.models as models\n",
        "import torch\n",
        "import torch.nn as nn\n",
        "import torch.optim as optim\n",
        "import torchvision\n",
        "from torchvision import datasets\n",
        "from torch.utils.data import Dataset\n",
        "from torch.autograd import Variable\n",
        "import torchvision.transforms as transforms\n",
        "import torch.nn.functional as F\n",
        "import torch.backends.cudnn as cudnn\n",
        "import h5py\n",
        "from xgboost import XGBClassifier\n",
        "\n",
        "\n",
        "from tqdm import tqdm\n",
        "\n",
        "import warnings \n",
        "warnings.simplefilter(\"ignore\")"
      ],
      "execution_count": 1,
      "outputs": []
    },
    {
      "cell_type": "code",
      "metadata": {
        "colab": {
          "base_uri": "https://localhost:8080/"
        },
        "id": "4cxdH2-dKWHs",
        "outputId": "edd63146-d717-4c5c-a9ad-4c8ec4216225"
      },
      "source": [
        "drive.mount(\"/content/drive\")"
      ],
      "execution_count": 2,
      "outputs": [
        {
          "output_type": "stream",
          "text": [
            "Mounted at /content/drive\n"
          ],
          "name": "stdout"
        }
      ]
    },
    {
      "cell_type": "markdown",
      "metadata": {
        "id": "QpFI7KC5M1o9"
      },
      "source": [
        "# Loading Data"
      ]
    },
    {
      "cell_type": "code",
      "metadata": {
        "id": "1V-9kyPcuudY",
        "colab": {
          "base_uri": "https://localhost:8080/",
          "height": 404
        },
        "outputId": "7ce4f674-bb0c-4792-cf9a-d17eb5b9f425"
      },
      "source": [
        "path_data =  '/content/drive/My Drive/Challenge'\n",
        "path_file = '/content/drive/My Drive/'\n",
        "train_csv = pd.read_csv(path_data+\"/trainset/trainset_true.csv\")  \n",
        "train_csv"
      ],
      "execution_count": 3,
      "outputs": [
        {
          "output_type": "execute_result",
          "data": {
            "text/html": [
              "<div>\n",
              "<style scoped>\n",
              "    .dataframe tbody tr th:only-of-type {\n",
              "        vertical-align: middle;\n",
              "    }\n",
              "\n",
              "    .dataframe tbody tr th {\n",
              "        vertical-align: top;\n",
              "    }\n",
              "\n",
              "    .dataframe thead th {\n",
              "        text-align: right;\n",
              "    }\n",
              "</style>\n",
              "<table border=\"1\" class=\"dataframe\">\n",
              "  <thead>\n",
              "    <tr style=\"text-align: right;\">\n",
              "      <th></th>\n",
              "      <th>ID</th>\n",
              "      <th>LABEL</th>\n",
              "      <th>GENDER</th>\n",
              "      <th>DOB</th>\n",
              "      <th>LYMPH_COUNT</th>\n",
              "    </tr>\n",
              "  </thead>\n",
              "  <tbody>\n",
              "    <tr>\n",
              "      <th>0</th>\n",
              "      <td>P26</td>\n",
              "      <td>1</td>\n",
              "      <td>M</td>\n",
              "      <td>11/3/1933</td>\n",
              "      <td>11.20</td>\n",
              "    </tr>\n",
              "    <tr>\n",
              "      <th>1</th>\n",
              "      <td>P183</td>\n",
              "      <td>1</td>\n",
              "      <td>M</td>\n",
              "      <td>5/15/1942</td>\n",
              "      <td>12.80</td>\n",
              "    </tr>\n",
              "    <tr>\n",
              "      <th>2</th>\n",
              "      <td>P89</td>\n",
              "      <td>1</td>\n",
              "      <td>M</td>\n",
              "      <td>6/19/1935</td>\n",
              "      <td>9.60</td>\n",
              "    </tr>\n",
              "    <tr>\n",
              "      <th>3</th>\n",
              "      <td>P123</td>\n",
              "      <td>1</td>\n",
              "      <td>M</td>\n",
              "      <td>1/27/1931</td>\n",
              "      <td>122.60</td>\n",
              "    </tr>\n",
              "    <tr>\n",
              "      <th>4</th>\n",
              "      <td>P61</td>\n",
              "      <td>1</td>\n",
              "      <td>F</td>\n",
              "      <td>3/5/1931</td>\n",
              "      <td>11.60</td>\n",
              "    </tr>\n",
              "    <tr>\n",
              "      <th>...</th>\n",
              "      <td>...</td>\n",
              "      <td>...</td>\n",
              "      <td>...</td>\n",
              "      <td>...</td>\n",
              "      <td>...</td>\n",
              "    </tr>\n",
              "    <tr>\n",
              "      <th>158</th>\n",
              "      <td>P135</td>\n",
              "      <td>1</td>\n",
              "      <td>M</td>\n",
              "      <td>27-08-1951</td>\n",
              "      <td>9.45</td>\n",
              "    </tr>\n",
              "    <tr>\n",
              "      <th>159</th>\n",
              "      <td>P8</td>\n",
              "      <td>0</td>\n",
              "      <td>M</td>\n",
              "      <td>16-05-1975</td>\n",
              "      <td>4.91</td>\n",
              "    </tr>\n",
              "    <tr>\n",
              "      <th>160</th>\n",
              "      <td>P130</td>\n",
              "      <td>0</td>\n",
              "      <td>F</td>\n",
              "      <td>16-05-1943</td>\n",
              "      <td>4.17</td>\n",
              "    </tr>\n",
              "    <tr>\n",
              "      <th>161</th>\n",
              "      <td>P70</td>\n",
              "      <td>1</td>\n",
              "      <td>M</td>\n",
              "      <td>05-09-1987</td>\n",
              "      <td>5.66</td>\n",
              "    </tr>\n",
              "    <tr>\n",
              "      <th>162</th>\n",
              "      <td>P60</td>\n",
              "      <td>0</td>\n",
              "      <td>F</td>\n",
              "      <td>5/23/1993</td>\n",
              "      <td>6.42</td>\n",
              "    </tr>\n",
              "  </tbody>\n",
              "</table>\n",
              "<p>163 rows × 5 columns</p>\n",
              "</div>"
            ],
            "text/plain": [
              "       ID  LABEL GENDER         DOB  LYMPH_COUNT\n",
              "0     P26      1      M   11/3/1933        11.20\n",
              "1    P183      1      M   5/15/1942        12.80\n",
              "2     P89      1      M   6/19/1935         9.60\n",
              "3    P123      1      M   1/27/1931       122.60\n",
              "4     P61      1      F    3/5/1931        11.60\n",
              "..    ...    ...    ...         ...          ...\n",
              "158  P135      1      M  27-08-1951         9.45\n",
              "159    P8      0      M  16-05-1975         4.91\n",
              "160  P130      0      F  16-05-1943         4.17\n",
              "161   P70      1      M  05-09-1987         5.66\n",
              "162   P60      0      F   5/23/1993         6.42\n",
              "\n",
              "[163 rows x 5 columns]"
            ]
          },
          "metadata": {
            "tags": []
          },
          "execution_count": 3
        }
      ]
    },
    {
      "cell_type": "code",
      "metadata": {
        "id": "2WGSBF868iB6"
      },
      "source": [
        "test_csv = pd.read_csv(path_data+\"/testset/testset_data.csv\")  "
      ],
      "execution_count": 4,
      "outputs": []
    },
    {
      "cell_type": "code",
      "metadata": {
        "id": "MadYUImzHcTO"
      },
      "source": [
        "def csv_processing(features):\n",
        "  def calculate_age(born):\n",
        "    today = date.today()\n",
        "    try:\n",
        "      [day, month, year] = [int(i) for i in born.split(\"/\")]\n",
        "    except:\n",
        "      [day, month, year] = [int(i) for i in born.split(\"-\")]\n",
        "    return today.year - year - ((today.month, today.day) < (month, day))\n",
        "\n",
        "  features[\"DOB\"] = features[\"DOB\"].apply(calculate_age)\n",
        "  features[\"GENDER\"] = features[\"GENDER\"].apply(lambda s:0 if s=='M' else 1)\n",
        "\n",
        "  features[\"model_output\"] = [0]*len(features)\n",
        "\n",
        "  return features \n",
        "\n",
        "train_csv_preprocessed = csv_processing(train_csv)\n",
        "test_csv_preprocessed = csv_processing(test_csv)"
      ],
      "execution_count": 5,
      "outputs": []
    },
    {
      "cell_type": "markdown",
      "metadata": {
        "id": "ZzD7HYI3giMO"
      },
      "source": [
        "### Split with stratification"
      ]
    },
    {
      "cell_type": "code",
      "metadata": {
        "colab": {
          "base_uri": "https://localhost:8080/"
        },
        "id": "WjDbPRACisTa",
        "outputId": "950177c2-ea42-46d6-ac24-db2247fff9f5"
      },
      "source": [
        "aux_data = train_csv_preprocessed.copy(deep=True)\n",
        "\n",
        "## Quantize age\n",
        "dob_splits = list(aux_data['DOB'].sort_values()[0::len(aux_data)//2]) ## into 2 equal intervals\n",
        "print(\"Age intervals:\", dob_splits)\n",
        "def Quantize_age(x):\n",
        "  for i in range(1, len(dob_splits)):\n",
        "    if x<dob_splits[i]:\n",
        "      return i\n",
        "  return len(dob_splits)-1\n",
        "aux_data['DOB'] = aux_data['DOB'].apply(Quantize_age)\n",
        "\n",
        "## Quantize Lymph_count\n",
        "Lymph_splits = list(aux_data['LYMPH_COUNT'].sort_values()[0::len(aux_data)//2]) ## into 2 equal intervals\n",
        "print(\"LYMPH_COUNT intervals:\", Lymph_splits)\n",
        "def Quantize_lymph(x):\n",
        "  for i in range(1, len(Lymph_splits)):\n",
        "    if x<Lymph_splits[i]:\n",
        "      return i\n",
        "  return len(Lymph_splits)-1\n",
        "aux_data['LYMPH_COUNT'] = aux_data['LYMPH_COUNT'].apply(Quantize_lymph)"
      ],
      "execution_count": 6,
      "outputs": [
        {
          "output_type": "stream",
          "text": [
            "Age intervals: [22, 72, 99]\n",
            "LYMPH_COUNT intervals: [2.28, 7.81, 295.0]\n"
          ],
          "name": "stdout"
        }
      ]
    },
    {
      "cell_type": "code",
      "metadata": {
        "colab": {
          "base_uri": "https://localhost:8080/",
          "height": 273
        },
        "id": "b-EhHyuZsE8x",
        "outputId": "40297187-d217-4281-d6c4-2cf524836d86"
      },
      "source": [
        "train_csv, val_csv = train_test_split(train_csv_preprocessed, random_state=45, \n",
        "                                      test_size=0.2, shuffle=True, \n",
        "                                      stratify=aux_data[['LABEL', 'GENDER', 'DOB', 'LYMPH_COUNT']])\n",
        "print(len(train_csv), len(val_csv))\n",
        "train_csv.head(7)"
      ],
      "execution_count": 7,
      "outputs": [
        {
          "output_type": "stream",
          "text": [
            "130 33\n"
          ],
          "name": "stdout"
        },
        {
          "output_type": "execute_result",
          "data": {
            "text/html": [
              "<div>\n",
              "<style scoped>\n",
              "    .dataframe tbody tr th:only-of-type {\n",
              "        vertical-align: middle;\n",
              "    }\n",
              "\n",
              "    .dataframe tbody tr th {\n",
              "        vertical-align: top;\n",
              "    }\n",
              "\n",
              "    .dataframe thead th {\n",
              "        text-align: right;\n",
              "    }\n",
              "</style>\n",
              "<table border=\"1\" class=\"dataframe\">\n",
              "  <thead>\n",
              "    <tr style=\"text-align: right;\">\n",
              "      <th></th>\n",
              "      <th>ID</th>\n",
              "      <th>LABEL</th>\n",
              "      <th>GENDER</th>\n",
              "      <th>DOB</th>\n",
              "      <th>LYMPH_COUNT</th>\n",
              "      <th>model_output</th>\n",
              "    </tr>\n",
              "  </thead>\n",
              "  <tbody>\n",
              "    <tr>\n",
              "      <th>138</th>\n",
              "      <td>P95</td>\n",
              "      <td>0</td>\n",
              "      <td>0</td>\n",
              "      <td>39</td>\n",
              "      <td>5.93</td>\n",
              "      <td>0</td>\n",
              "    </tr>\n",
              "    <tr>\n",
              "      <th>74</th>\n",
              "      <td>P181</td>\n",
              "      <td>1</td>\n",
              "      <td>1</td>\n",
              "      <td>86</td>\n",
              "      <td>17.44</td>\n",
              "      <td>0</td>\n",
              "    </tr>\n",
              "    <tr>\n",
              "      <th>65</th>\n",
              "      <td>P51</td>\n",
              "      <td>1</td>\n",
              "      <td>1</td>\n",
              "      <td>74</td>\n",
              "      <td>4.97</td>\n",
              "      <td>0</td>\n",
              "    </tr>\n",
              "    <tr>\n",
              "      <th>50</th>\n",
              "      <td>P53</td>\n",
              "      <td>1</td>\n",
              "      <td>1</td>\n",
              "      <td>88</td>\n",
              "      <td>15.25</td>\n",
              "      <td>0</td>\n",
              "    </tr>\n",
              "    <tr>\n",
              "      <th>100</th>\n",
              "      <td>P193</td>\n",
              "      <td>1</td>\n",
              "      <td>0</td>\n",
              "      <td>84</td>\n",
              "      <td>10.42</td>\n",
              "      <td>0</td>\n",
              "    </tr>\n",
              "    <tr>\n",
              "      <th>142</th>\n",
              "      <td>P198</td>\n",
              "      <td>0</td>\n",
              "      <td>0</td>\n",
              "      <td>43</td>\n",
              "      <td>4.50</td>\n",
              "      <td>0</td>\n",
              "    </tr>\n",
              "    <tr>\n",
              "      <th>31</th>\n",
              "      <td>P157</td>\n",
              "      <td>1</td>\n",
              "      <td>0</td>\n",
              "      <td>71</td>\n",
              "      <td>5.05</td>\n",
              "      <td>0</td>\n",
              "    </tr>\n",
              "  </tbody>\n",
              "</table>\n",
              "</div>"
            ],
            "text/plain": [
              "       ID  LABEL  GENDER  DOB  LYMPH_COUNT  model_output\n",
              "138   P95      0       0   39         5.93             0\n",
              "74   P181      1       1   86        17.44             0\n",
              "65    P51      1       1   74         4.97             0\n",
              "50    P53      1       1   88        15.25             0\n",
              "100  P193      1       0   84        10.42             0\n",
              "142  P198      0       0   43         4.50             0\n",
              "31   P157      1       0   71         5.05             0"
            ]
          },
          "metadata": {
            "tags": []
          },
          "execution_count": 7
        }
      ]
    },
    {
      "cell_type": "markdown",
      "metadata": {
        "id": "UmFSvifBAIO7"
      },
      "source": [
        "## h5 files"
      ]
    },
    {
      "cell_type": "code",
      "metadata": {
        "id": "CB0NSo3jAHYa"
      },
      "source": [
        "f_train = h5py.File(path_data + '/train_data_h.h5', 'r')\n",
        "f_val = h5py.File(path_data + '/val_data_h.h5', 'r')\n",
        "f_test = h5py.File(path_data + '/test_data_h.h5', 'r')\n",
        "\n",
        "#f_train_seg = h5py.File(path_data + '/train_data_seg_h.h5', 'r')\n",
        "#f_val_seg = h5py.File(path_data + '/val_data_seg_h.h5', 'r')\n",
        "\n",
        "# f_train = h5py.File(path_file + '/train_data_h.h5', 'r')\n",
        "# f_val = h5py.File(path_file + '/val_data_h.h5', 'r')\n",
        "# f_test = h5py.File(path_file + '/test_data_h.h5', 'r')\n",
        "# f_test_seg = h5py.File(path_data + '/test_data_seg_h.h5', 'r')"
      ],
      "execution_count": 9,
      "outputs": []
    },
    {
      "cell_type": "markdown",
      "metadata": {
        "id": "PxU5wWmNdhWT"
      },
      "source": [
        "#### Data Loader"
      ]
    },
    {
      "cell_type": "code",
      "metadata": {
        "id": "wJzhX1j-vx8Z"
      },
      "source": [
        "class Lympho_Dataset(Dataset):\n",
        "\n",
        "    def __init__(self, file, csv_file , transform=None):\n",
        "        self.data = file\n",
        "        self.transform = transform\n",
        "        self.csv_data = csv_file\n",
        "\n",
        "    def __len__(self):\n",
        "        return len(self.data)\n",
        "\n",
        "    def __getitem__(self, idx):\n",
        "        if torch.is_tensor(idx):\n",
        "            idx = idx.tolist()\n",
        "\n",
        "        patient = list(self.data.keys())[idx]\n",
        "        images = []\n",
        "        for img in self.data[patient]:\n",
        "            if self.transform:\n",
        "              img = self.transform(img)\n",
        "            images.append(img)\n",
        "\n",
        "        target = torch.tensor(int(self.csv_data.loc[self.csv_data[\"ID\"]==patient]['LABEL']))\n",
        "\n",
        "        return images, target, patient"
      ],
      "execution_count": 10,
      "outputs": []
    },
    {
      "cell_type": "code",
      "metadata": {
        "id": "vDgT37S2TH7S"
      },
      "source": [
        "from torch.utils.data.sampler import SubsetRandomSampler\n",
        "\n",
        "img_size = 128   ## original 224\n",
        "train_data_transforms = transforms.Compose([\n",
        "    torchvision.transforms.ToPILImage(),\n",
        "    transforms.Resize((img_size,img_size)),\n",
        "    transforms.RandomHorizontalFlip(p=0.5),\n",
        "    transforms.RandomVerticalFlip(p=0.5),\n",
        "    #transforms.RandomRotation(30, fill=None),\n",
        "    transforms.ToTensor(),\n",
        "])\n",
        "\n",
        "test_data_transforms = transforms.Compose([\n",
        "    torchvision.transforms.ToPILImage(),\n",
        "    transforms.Resize((img_size,img_size)),\n",
        "    transforms.ToTensor(),\n",
        "])\n",
        "\n",
        "trainset = Lympho_Dataset(file = f_train, csv_file=train_csv_preprocessed, transform=train_data_transforms)\n",
        "#trainset_seg = Lympho_Dataset(file = f_train_seg, csv_file=train_csv_preprocessed, transform=train_data_transforms)\n",
        "valset = Lympho_Dataset(file = f_val,csv_file=train_csv_preprocessed, transform=train_data_transforms)\n",
        "#valset_seg = Lympho_Dataset(file = f_val_seg, csv_file=train_csv_preprocessed, transform=train_data_transforms)\n",
        "\n",
        "testset = Lympho_Dataset(file = f_test, csv_file=test_csv_preprocessed, transform=test_data_transforms)"
      ],
      "execution_count": 11,
      "outputs": []
    },
    {
      "cell_type": "markdown",
      "metadata": {
        "id": "zzHQg5btQU8m"
      },
      "source": [
        "# Data exploration"
      ]
    },
    {
      "cell_type": "code",
      "metadata": {
        "colab": {
          "base_uri": "https://localhost:8080/"
        },
        "id": "oI4jRBhWFkEV",
        "outputId": "5d6596fa-db73-4591-c3ef-ec4194a4f6e8"
      },
      "source": [
        "train_csv_preprocessed['LYMPH_COUNT'][train_csv_preprocessed['LABEL'] == 1].hist(LABEL=\"Label 1\")\n",
        "plt.title(\"LYMPH_COUNT distribution\")\n",
        "plt.legend()\n",
        "plt.show()\n",
        "train_csv_preprocessed['LYMPH_COUNT'][train_csv_preprocessed['LABEL'] == 0].hist(LABEL=\"Label 0\")\n",
        "plt.title(\"LYMPH_COUNT distribution\")\n",
        "plt.legend()\n",
        "plt.show()"
      ],
      "execution_count": null,
      "outputs": [
        {
          "output_type": "display_data",
          "data": {
            "image/png": "[encoded data removed]",
            "text/plain": [
              "<Figure size 432x288 with 1 Axes>"
            ]
          },
          "metadata": {
            "tags": [],
            "needs_background": "light"
          }
        },
        {
          "output_type": "display_data",
          "data": {
            "image/png": "[encoded data removed]",
            "text/plain": [
              "<Figure size 432x288 with 1 Axes>"
            ]
          },
          "metadata": {
            "tags": [],
            "needs_background": "light"
          }
        }
      ]
    },
    {
      "cell_type": "code",
      "metadata": {
        "colab": {
          "base_uri": "https://localhost:8080/"
        },
        "id": "pHGS7VHKUjPa",
        "outputId": "2e4bbf85-d569-46dd-cad8-79e6d562f37f"
      },
      "source": [
        "train_csv_preprocessed['DOB'][train_csv_preprocessed['LABEL'] == 1].hist(LABEL=\"Label 1\")\n",
        "train_csv_preprocessed['DOB'][train_csv_preprocessed['LABEL'] == 0].hist(LABEL=\"Label 0\")\n",
        "plt.title(\"Age distribution\")\n",
        "plt.legend()\n",
        "plt.show()"
      ],
      "execution_count": null,
      "outputs": [
        {
          "output_type": "display_data",
          "data": {
            "image/png": "[encoded data removed]",
            "text/plain": [
              "<Figure size 432x288 with 1 Axes>"
            ]
          },
          "metadata": {
            "tags": [],
            "needs_background": "light"
          }
        }
      ]
    },
    {
      "cell_type": "code",
      "metadata": {
        "colab": {
          "base_uri": "https://localhost:8080/"
        },
        "id": "s8VLXOLZW_AD",
        "outputId": "5f51a95d-a38e-4593-eb77-e364512a7243"
      },
      "source": [
        "train_csv_preprocessed['GENDER'][train_csv_preprocessed['LABEL'] == 1].hist(LABEL=\"Label 1\")\n",
        "train_csv_preprocessed['GENDER'][train_csv_preprocessed['LABEL'] == 0].hist(LABEL=\"Label 0\")\n",
        "plt.title(\"Gender distribution\")\n",
        "plt.legend()\n",
        "plt.show()"
      ],
      "execution_count": null,
      "outputs": [
        {
          "output_type": "display_data",
          "data": {
            "image/png": "[encoded data removed]",
            "text/plain": [
              "<Figure size 432x288 with 1 Axes>"
            ]
          },
          "metadata": {
            "tags": [],
            "needs_background": "light"
          }
        }
      ]
    },
    {
      "cell_type": "code",
      "metadata": {
        "colab": {
          "base_uri": "https://localhost:8080/"
        },
        "id": "1fN1dX1PQS0o",
        "outputId": "cdc5d12d-66ce-4a32-bbef-0401eaeb7f95"
      },
      "source": [
        "plt.hist(train_csv_preprocessed['LABEL'].values)\n",
        "plt.title('Classes distribution')\n",
        "plt.show()"
      ],
      "execution_count": null,
      "outputs": [
        {
          "output_type": "display_data",
          "data": {
            "image/png": "[encoded data removed]",
            "text/plain": [
              "<Figure size 432x288 with 1 Axes>"
            ]
          },
          "metadata": {
            "tags": [],
            "needs_background": "light"
          }
        }
      ]
    },
    {
      "cell_type": "markdown",
      "metadata": {
        "id": "_w96v1PFgD44"
      },
      "source": [
        "# Instance-Level MIL with Resnet18/Pretrained_Resnet18/SEnet"
      ]
    },
    {
      "cell_type": "code",
      "metadata": {
        "id": "YzZ6sTMGZuOQ"
      },
      "source": [
        "#ResNet18 implementation\n",
        "#We used the implementation of ResNet18 architecture from the given github repository:\n",
        "#https://github.com/kuangliu/pytorch-cifar/blob/master/models/resnet.py\n",
        "class BasicBlock(nn.Module):\n",
        "    expansion = 1\n",
        "\n",
        "    def __init__(self, in_planes, planes, stride=1):\n",
        "        super(BasicBlock, self).__init__()\n",
        "        self.conv1 = nn.Conv2d(in_planes, planes, kernel_size=3, stride=stride, padding=1, bias=False)\n",
        "        self.bn1 = nn.BatchNorm2d(planes)\n",
        "        self.conv2 = nn.Conv2d(planes, planes, kernel_size=3, stride=1, padding=1, bias=False)\n",
        "        self.bn2 = nn.BatchNorm2d(planes)\n",
        "\n",
        "        self.shortcut = nn.Sequential()\n",
        "        if stride != 1 or in_planes != self.expansion*planes:\n",
        "            self.shortcut = nn.Sequential(\n",
        "                nn.Conv2d(in_planes, self.expansion*planes, kernel_size=1, stride=stride, bias=False),\n",
        "                nn.BatchNorm2d(self.expansion*planes)\n",
        "            )\n",
        "\n",
        "    def forward(self, x):\n",
        "        out = F.relu(self.bn1(self.conv1(x)))\n",
        "        out = self.bn2(self.conv2(out))\n",
        "        out += self.shortcut(x)\n",
        "        out = F.relu(out)\n",
        "        return out\n",
        "    \n",
        "class ResNet(nn.Module):\n",
        "    def __init__(self, block, num_blocks, num_classes=2):\n",
        "        super(ResNet, self).__init__()\n",
        "        self.in_planes = 64\n",
        "\n",
        "        self.conv1 = nn.Conv2d(3, 64, kernel_size=3, stride=1, padding=1, bias=False)\n",
        "        self.bn1 = nn.BatchNorm2d(64)\n",
        "        self.layer1 = self._make_layer(block, 64, num_blocks[0], stride=1)\n",
        "        self.layer2 = self._make_layer(block, 128, num_blocks[1], stride=2)\n",
        "        self.layer3 = self._make_layer(block, 256, num_blocks[2], stride=2)\n",
        "        self.layer4 = self._make_layer(block, 512, num_blocks[3], stride=2)\n",
        "        self.linear = nn.Linear(2048, num_classes)\n",
        "\n",
        "    def _make_layer(self, block, planes, num_blocks, stride):\n",
        "        strides = [stride] + [1]*(num_blocks-1)\n",
        "        layers = []\n",
        "        for stride in strides:\n",
        "            layers.append(block(self.in_planes, planes, stride))\n",
        "            self.in_planes = planes * block.expansion\n",
        "        return nn.Sequential(*layers)\n",
        "\n",
        "    def forward(self, x):\n",
        "        out = F.relu(self.bn1(self.conv1(x)))\n",
        "        out = self.layer1(out)\n",
        "        out = self.layer2(out)\n",
        "        out = self.layer3(out)\n",
        "        out = self.layer4(out)\n",
        "        out = F.avg_pool2d(out, 4)\n",
        "        out = out.view(out.size(0), -1)\n",
        "        #print(out.size())\n",
        "        #out = self.linear(out)\n",
        "        return out\n",
        "\n",
        "def ResNet18():\n",
        "    return ResNet(BasicBlock, [2,2,2,2])\n"
      ],
      "execution_count": 12,
      "outputs": []
    },
    {
      "cell_type": "code",
      "metadata": {
        "id": "ftUQiJLGfwh3",
        "colab": {
          "base_uri": "https://localhost:8080/",
          "height": 136
        },
        "outputId": "5328a46b-8c10-43fb-d5f8-8c907abadc16"
      },
      "source": [
        "\"\"\"\n",
        "\n",
        "'''SENet in PyTorch.\n",
        "SENet is the winner of ImageNet-2017. The paper is not released yet.\n",
        "'''\n",
        "import torch\n",
        "import torch.nn as nn\n",
        "import torch.nn.functional as F\n",
        "\n",
        "\n",
        "class BasicBlock(nn.Module):\n",
        "    def __init__(self, in_planes, planes, stride=1):\n",
        "        super(BasicBlock, self).__init__()\n",
        "        self.conv1 = nn.Conv2d(in_planes, planes, kernel_size=3, stride=stride, padding=1, bias=False)\n",
        "        self.bn1 = nn.BatchNorm2d(planes)\n",
        "        self.conv2 = nn.Conv2d(planes, planes, kernel_size=3, stride=1, padding=1, bias=False)\n",
        "        self.bn2 = nn.BatchNorm2d(planes)\n",
        "\n",
        "        self.shortcut = nn.Sequential()\n",
        "        if stride != 1 or in_planes != planes:\n",
        "            self.shortcut = nn.Sequential(\n",
        "                nn.Conv2d(in_planes, planes, kernel_size=1, stride=stride, bias=False),\n",
        "                nn.BatchNorm2d(planes)\n",
        "            )\n",
        "\n",
        "        # SE layers\n",
        "        self.fc1 = nn.Conv2d(planes, planes//16, kernel_size=1)  # Use nn.Conv2d instead of nn.Linear\n",
        "        self.fc2 = nn.Conv2d(planes//16, planes, kernel_size=1)\n",
        "\n",
        "    def forward(self, x):\n",
        "        out = F.relu(self.bn1(self.conv1(x)))\n",
        "        out = self.bn2(self.conv2(out))\n",
        "\n",
        "        # Squeeze\n",
        "        w = F.avg_pool2d(out, out.size(2))\n",
        "        w = F.relu(self.fc1(w))\n",
        "        w = F.sigmoid(self.fc2(w))\n",
        "        # Excitation\n",
        "        out = out * w  # New broadcasting feature from v0.2!\n",
        "\n",
        "        out += self.shortcut(x)\n",
        "        out = F.relu(out)\n",
        "        return out\n",
        "\n",
        "\n",
        "class PreActBlock(nn.Module):\n",
        "    def __init__(self, in_planes, planes, stride=1):\n",
        "        super(PreActBlock, self).__init__()\n",
        "        self.bn1 = nn.BatchNorm2d(in_planes)\n",
        "        self.conv1 = nn.Conv2d(in_planes, planes, kernel_size=3, stride=stride, padding=1, bias=False)\n",
        "        self.bn2 = nn.BatchNorm2d(planes)\n",
        "        self.conv2 = nn.Conv2d(planes, planes, kernel_size=3, stride=1, padding=1, bias=False)\n",
        "\n",
        "        if stride != 1 or in_planes != planes:\n",
        "            self.shortcut = nn.Sequential(\n",
        "                nn.Conv2d(in_planes, planes, kernel_size=1, stride=stride, bias=False)\n",
        "            )\n",
        "\n",
        "        # SE layers\n",
        "        self.fc1 = nn.Conv2d(planes, planes//16, kernel_size=1)\n",
        "        self.fc2 = nn.Conv2d(planes//16, planes, kernel_size=1)\n",
        "\n",
        "    def forward(self, x):\n",
        "        out = F.relu(self.bn1(x))\n",
        "        shortcut = self.shortcut(out) if hasattr(self, 'shortcut') else x\n",
        "        out = self.conv1(out)\n",
        "        out = self.conv2(F.relu(self.bn2(out)))\n",
        "\n",
        "        # Squeeze\n",
        "        w = F.avg_pool2d(out, out.size(2))\n",
        "        w = F.relu(self.fc1(w))\n",
        "        w = F.sigmoid(self.fc2(w))\n",
        "        # Excitation\n",
        "        out = out * w\n",
        "\n",
        "        out += shortcut\n",
        "        return out\n",
        "\n",
        "\n",
        "class SENet(nn.Module):\n",
        "    def __init__(self, block, num_blocks, num_classes=2):\n",
        "        super(SENet, self).__init__()\n",
        "        self.in_planes = 64\n",
        "\n",
        "        self.conv1 = nn.Conv2d(3, 64, kernel_size=3, stride=1, padding=1, bias=False)\n",
        "        self.bn1 = nn.BatchNorm2d(64)\n",
        "        self.layer1 = self._make_layer(block,  64, num_blocks[0], stride=1)\n",
        "        self.layer2 = self._make_layer(block, 128, num_blocks[1], stride=2)\n",
        "        self.layer3 = self._make_layer(block, 256, num_blocks[2], stride=2)\n",
        "        self.layer4 = self._make_layer(block, 512, num_blocks[3], stride=2)\n",
        "        self.linear = nn.Linear(2048, num_classes)\n",
        "\n",
        "    def _make_layer(self, block, planes, num_blocks, stride):\n",
        "        strides = [stride] + [1]*(num_blocks-1)\n",
        "        layers = []\n",
        "        for stride in strides:\n",
        "            layers.append(block(self.in_planes, planes, stride))\n",
        "            self.in_planes = planes\n",
        "        return nn.Sequential(*layers)\n",
        "\n",
        "    def forward(self, x):\n",
        "        out = F.relu(self.bn1(self.conv1(x)))\n",
        "        out = self.layer1(out)\n",
        "        out = self.layer2(out)\n",
        "        out = self.layer3(out)\n",
        "        out = self.layer4(out)\n",
        "        out = F.avg_pool2d(out, 4)\n",
        "        out = out.view(out.size(0), -1)\n",
        "        #print(out.size())\n",
        "        #out = self.linear(out)\n",
        "        return out\n",
        "\n",
        "\n",
        "def SENet18():\n",
        "    return SENet(PreActBlock, [2,2,2,2])\n",
        "\"\"\""
      ],
      "execution_count": 13,
      "outputs": [
        {
          "output_type": "execute_result",
          "data": {
            "application/vnd.google.colaboratory.intrinsic+json": {
              "type": "string"
            },
            "text/plain": [
              "\"\\n\\n'''SENet in PyTorch.\\nSENet is the winner of ImageNet-2017. The paper is not released yet.\\n'''\\nimport torch\\nimport torch.nn as nn\\nimport torch.nn.functional as F\\n\\n\\nclass BasicBlock(nn.Module):\\n    def __init__(self, in_planes, planes, stride=1):\\n        super(BasicBlock, self).__init__()\\n        self.conv1 = nn.Conv2d(in_planes, planes, kernel_size=3, stride=stride, padding=1, bias=False)\\n        self.bn1 = nn.BatchNorm2d(planes)\\n        self.conv2 = nn.Conv2d(planes, planes, kernel_size=3, stride=1, padding=1, bias=False)\\n        self.bn2 = nn.BatchNorm2d(planes)\\n\\n        self.shortcut = nn.Sequential()\\n        if stride != 1 or in_planes != planes:\\n            self.shortcut = nn.Sequential(\\n                nn.Conv2d(in_planes, planes, kernel_size=1, stride=stride, bias=False),\\n                nn.BatchNorm2d(planes)\\n            )\\n\\n        # SE layers\\n        self.fc1 = nn.Conv2d(planes, planes//16, kernel_size=1)  # Use nn.Conv2d instead of nn.Linear\\n        self.fc2 = nn.Conv2d(planes//16, planes, kernel_size=1)\\n\\n    def forward(self, x):\\n        out = F.relu(self.bn1(self.conv1(x)))\\n        out = self.bn2(self.conv2(out))\\n\\n        # Squeeze\\n        w = F.avg_pool2d(out, out.size(2))\\n        w = F.relu(self.fc1(w))\\n        w = F.sigmoid(self.fc2(w))\\n        # Excitation\\n        out = out * w  # New broadcasting feature from v0.2!\\n\\n        out += self.shortcut(x)\\n        out = F.relu(out)\\n        return out\\n\\n\\nclass PreActBlock(nn.Module):\\n    def __init__(self, in_planes, planes, stride=1):\\n        super(PreActBlock, self).__init__()\\n        self.bn1 = nn.BatchNorm2d(in_planes)\\n        self.conv1 = nn.Conv2d(in_planes, planes, kernel_size=3, stride=stride, padding=1, bias=False)\\n        self.bn2 = nn.BatchNorm2d(planes)\\n        self.conv2 = nn.Conv2d(planes, planes, kernel_size=3, stride=1, padding=1, bias=False)\\n\\n        if stride != 1 or in_planes != planes:\\n            self.shortcut = nn.Sequential(\\n                nn.Conv2d(in_planes, planes, kernel_size=1, stride=stride, bias=False)\\n            )\\n\\n        # SE layers\\n        self.fc1 = nn.Conv2d(planes, planes//16, kernel_size=1)\\n        self.fc2 = nn.Conv2d(planes//16, planes, kernel_size=1)\\n\\n    def forward(self, x):\\n        out = F.relu(self.bn1(x))\\n        shortcut = self.shortcut(out) if hasattr(self, 'shortcut') else x\\n        out = self.conv1(out)\\n        out = self.conv2(F.relu(self.bn2(out)))\\n\\n        # Squeeze\\n        w = F.avg_pool2d(out, out.size(2))\\n        w = F.relu(self.fc1(w))\\n        w = F.sigmoid(self.fc2(w))\\n        # Excitation\\n        out = out * w\\n\\n        out += shortcut\\n        return out\\n\\n\\nclass SENet(nn.Module):\\n    def __init__(self, block, num_blocks, num_classes=2):\\n        super(SENet, self).__init__()\\n        self.in_planes = 64\\n\\n        self.conv1 = nn.Conv2d(3, 64, kernel_size=3, stride=1, padding=1, bias=False)\\n        self.bn1 = nn.BatchNorm2d(64)\\n        self.layer1 = self._make_layer(block,  64, num_blocks[0], stride=1)\\n        self.layer2 = self._make_layer(block, 128, num_blocks[1], stride=2)\\n        self.layer3 = self._make_layer(block, 256, num_blocks[2], stride=2)\\n        self.layer4 = self._make_layer(block, 512, num_blocks[3], stride=2)\\n        self.linear = nn.Linear(2048, num_classes)\\n\\n    def _make_layer(self, block, planes, num_blocks, stride):\\n        strides = [stride] + [1]*(num_blocks-1)\\n        layers = []\\n        for stride in strides:\\n            layers.append(block(self.in_planes, planes, stride))\\n            self.in_planes = planes\\n        return nn.Sequential(*layers)\\n\\n    def forward(self, x):\\n        out = F.relu(self.bn1(self.conv1(x)))\\n        out = self.layer1(out)\\n        out = self.layer2(out)\\n        out = self.layer3(out)\\n        out = self.layer4(out)\\n        out = F.avg_pool2d(out, 4)\\n        out = out.view(out.size(0), -1)\\n        #print(out.size())\\n        #out = self.linear(out)\\n        return out\\n\\n\\ndef SENet18():\\n    return SENet(PreActBlock, [2,2,2,2])\\n\""
            ]
          },
          "metadata": {
            "tags": []
          },
          "execution_count": 13
        }
      ]
    },
    {
      "cell_type": "code",
      "metadata": {
        "id": "9oXhV-gKTtXa"
      },
      "source": [
        "def pretrained_resnet18(nclasses=2):\n",
        "  pretrained_res = models.resnet18(pretrained=True)\n",
        "  ct = 0\n",
        "  for child in pretrained_res.children():\n",
        "    ct += 1\n",
        "    if 0<ct<4:\n",
        "      for param in child.parameters():\n",
        "        param.requires_grad = False\n",
        "\n",
        "  num_param = pretrained_res.fc.in_features\n",
        "  pretrained_res.fc = torch.nn.Sequential(\n",
        "                      torch.nn.Linear(num_param, 64),\n",
        "                      torch.nn.ReLU(),\n",
        "                      torch.nn.Linear(64, nclasses))\n",
        "  return pretrained_res"
      ],
      "execution_count": 14,
      "outputs": []
    },
    {
      "cell_type": "code",
      "metadata": {
        "colab": {
          "base_uri": "https://localhost:8080/"
        },
        "id": "CLFLMiSnVVIm",
        "outputId": "81a3159e-0344-4c79-a250-c6795a90d2eb"
      },
      "source": [
        "use_cuda = torch.cuda.is_available()\n",
        "device = 'cuda' if use_cuda else 'cpu'\n",
        "\n",
        "print('Building model')\n",
        "net = pretrained_resnet18()\n",
        "\n",
        "#setting the hyper-parameters\n",
        "lr = 0.5\n",
        "weight_d = 5e-4\n",
        "momentum = 0.8\n",
        "batch_size = 1\n",
        "epochs = 4\n",
        "\n",
        "#Opimizer and Loss criterion\n",
        "ratio_label1 = 98/142 \n",
        "weight = torch.tensor([ratio_label1, 1-ratio_label1]).cuda()\n",
        "criterion = nn.CrossEntropyLoss(reduction='mean')\n",
        "optimizer = torch.optim.SGD(net.parameters(), lr=lr, momentum=momentum, weight_decay=weight_d)\n",
        "#optimizer = torch.optim.Adam(net.parameters(), lr=lr) \n",
        "\n",
        "\n",
        "# Train and test \n",
        "def train(net, epochs, trainset, valset, prints=1):\n",
        "\n",
        "    net = net.to(device)\n",
        "    if device == 'cuda':\n",
        "        net = torch.nn.DataParallel(net)\n",
        "        cudnn.benchmark = True\n",
        "    \n",
        "    training_loss=[]\n",
        "    train_accuracy=[]\n",
        "    validation_loss=[]\n",
        "    validation_accuracy=[]\n",
        "    \n",
        "    for epoch in range(epochs):\n",
        "        #Training\n",
        "        net.train()\n",
        "        train_loss = 0\n",
        "        total = 0\n",
        "        y_pred = []\n",
        "        y_truth = []\n",
        "        \n",
        "        for i in range(len(trainset)):\n",
        "            outputs = 0\n",
        "            images, targets, patient = trainset[i]            \n",
        "      \n",
        "            targets = targets.unsqueeze(0)\n",
        "            targets = targets.to(device)\n",
        "            for image in images:\n",
        "              image = image.unsqueeze(0)\n",
        "              image = image.to(device)\n",
        "              outputs += net(image)\n",
        "            outputs /= len(images)\n",
        "\n",
        "            ## Adding the model prediction into the dataset\n",
        "            train_csv_preprocessed[\"model_output\"].loc[train_csv_preprocessed[\"ID\"]==patient] = outputs.data.max(1, keepdim=True)[1][0].item()\n",
        "\n",
        "            optimizer.zero_grad()\n",
        "            loss = criterion(outputs, targets)\n",
        "            loss.backward()\n",
        "            optimizer.step()\n",
        "\n",
        "            train_loss += loss.item()\n",
        "            _, predicted = outputs.max(1)\n",
        "            total += targets.size(0)\n",
        "            y_pred.append(predicted.item())\n",
        "            y_truth.append(targets.item())\n",
        "\n",
        "            if i%20==0:\n",
        "              print(\"{}/{}\".format(i, len(trainset)))\n",
        "\n",
        "        t_accuracy = balanced_accuracy_score(y_truth, y_pred)\n",
        "        t_loss = train_loss/ len(trainset)\n",
        "        train_accuracy.append(t_accuracy)\n",
        "        training_loss.append(t_loss)\n",
        "\n",
        "\n",
        "        #Validation\n",
        "        net.eval()\n",
        "        val_loss = 0\n",
        "        y_pred = []\n",
        "        y_truth = []\n",
        "        total = 0\n",
        "        for i in range(len(valset)):\n",
        "            outputs = 0\n",
        "            images, targets, patient = valset[i]\n",
        "\n",
        "            targets = targets.unsqueeze(0)\n",
        "            targets = targets.to(device)\n",
        "            for image in images:\n",
        "              image = image.unsqueeze(0)\n",
        "              image = image.to(device)\n",
        "              outputs += net(image)\n",
        "            outputs /= len(images)\n",
        "\n",
        "            ## Adding the model prediction into the dataset\n",
        "            train_csv_preprocessed[\"model_output\"].loc[train_csv_preprocessed[\"ID\"]==patient] = outputs.data.max(1, keepdim=True)[1][0].item()\n",
        "\n",
        "            loss = criterion(outputs, targets)\n",
        "\n",
        "            val_loss += loss.item()\n",
        "            _, predicted = outputs.max(1)\n",
        "            total += targets.size(0)\n",
        "            y_pred.append(predicted.item())\n",
        "            y_truth.append(targets.item())\n",
        "\n",
        "        print(\"predictions:\", y_pred)\n",
        "        v_accuracy = balanced_accuracy_score(y_truth, y_pred)\n",
        "        v_loss = val_loss/ len(valset)\n",
        "        validation_accuracy.append(v_accuracy)\n",
        "        validation_loss.append(v_loss)\n",
        "\n",
        "        if (epoch+1) % prints==0:\n",
        "          print('Epoch [{}/{}],\\t Train Loss: {:.4f}, \\t Train accuracy={:.4f},\\t Validation Loss: {:.4f}, \\t Validation accuracy={:.4f}'\n",
        "                          .format(epoch+1, epochs, t_loss , t_accuracy , v_loss, v_accuracy))\n",
        "        \n",
        "        torch.save(net.state_dict(), 'model.pth')\n",
        "\n",
        "    return train_accuracy , training_loss , validation_accuracy , validation_loss"
      ],
      "execution_count": 20,
      "outputs": [
        {
          "output_type": "stream",
          "text": [
            "Building model\n"
          ],
          "name": "stdout"
        }
      ]
    },
    {
      "cell_type": "markdown",
      "metadata": {
        "id": "_s2fGqG_6KMn"
      },
      "source": [
        "### Training the model"
      ]
    },
    {
      "cell_type": "code",
      "metadata": {
        "colab": {
          "base_uri": "https://localhost:8080/"
        },
        "id": "9JSMKkU4V8Dj",
        "outputId": "63e80287-d279-4bb4-a471-0237da641f31"
      },
      "source": [
        "print(\"Training phase\")\n",
        "train_accuracy , training_loss , validation_accuracy , validation_loss = train(net, epochs, trainset, valset)"
      ],
      "execution_count": 21,
      "outputs": [
        {
          "output_type": "stream",
          "text": [
            "Training phase\n",
            "0/130\n",
            "20/130\n",
            "40/130\n",
            "60/130\n",
            "80/130\n",
            "100/130\n",
            "120/130\n",
            "predictions: [1, 1, 1, 1, 1, 1, 1, 1, 1, 1, 1, 1, 1, 1, 1, 1, 1, 1, 1, 1, 1, 1, 1, 1, 1, 1, 1, 1, 1, 1, 1, 1, 1]\n",
            "Epoch [1/4],\t Train Loss: 1.8062, \t Train accuracy=0.5278,\t Validation Loss: 1.5535, \t Validation accuracy=0.5000\n",
            "0/130\n",
            "20/130\n",
            "40/130\n",
            "60/130\n",
            "80/130\n",
            "100/130\n",
            "120/130\n",
            "predictions: [1, 1, 1, 1, 1, 1, 1, 1, 1, 1, 1, 1, 1, 1, 1, 1, 1, 1, 1, 1, 1, 1, 1, 1, 1, 1, 1, 1, 1, 1, 1, 1, 1]\n",
            "Epoch [2/4],\t Train Loss: 0.9887, \t Train accuracy=0.5653,\t Validation Loss: 1.5534, \t Validation accuracy=0.5000\n",
            "0/130\n",
            "20/130\n",
            "40/130\n",
            "60/130\n",
            "80/130\n",
            "100/130\n",
            "120/130\n",
            "predictions: [1, 1, 1, 1, 1, 1, 1, 1, 1, 1, 1, 1, 1, 1, 1, 1, 1, 1, 1, 1, 1, 1, 1, 1, 1, 1, 1, 1, 1, 1, 1, 1, 1]\n",
            "Epoch [3/4],\t Train Loss: 0.9887, \t Train accuracy=0.5653,\t Validation Loss: 1.5533, \t Validation accuracy=0.5000\n",
            "0/130\n",
            "20/130\n",
            "40/130\n",
            "60/130\n",
            "80/130\n",
            "100/130\n",
            "120/130\n",
            "predictions: [1, 1, 1, 1, 1, 1, 1, 1, 1, 1, 1, 1, 1, 1, 1, 1, 1, 1, 1, 1, 1, 1, 1, 1, 1, 1, 1, 1, 1, 1, 1, 1, 1]\n",
            "Epoch [4/4],\t Train Loss: 0.9887, \t Train accuracy=0.5653,\t Validation Loss: 1.5532, \t Validation accuracy=0.5000\n"
          ],
          "name": "stdout"
        }
      ]
    },
    {
      "cell_type": "markdown",
      "metadata": {
        "id": "dBzzO1HoSYF0"
      },
      "source": [
        "### Applying a Classifier on the new data"
      ]
    },
    {
      "cell_type": "code",
      "metadata": {
        "id": "lnYknIwWTzmS"
      },
      "source": [
        "from sklearn.model_selection import train_test_split\n",
        "\n",
        "y = train_csv_preprocessed['LABEL']\n",
        "X = train_csv_preprocessed.drop([\"ID\", \"LABEL\"], axis=1).values\n",
        "x_train, x_val, y_train, y_val = train_test_split(X, y, test_size=0.2)"
      ],
      "execution_count": 22,
      "outputs": []
    },
    {
      "cell_type": "code",
      "metadata": {
        "colab": {
          "base_uri": "https://localhost:8080/"
        },
        "id": "EgGzrnpxUgjv",
        "outputId": "93927613-001f-47f0-e7e9-ced18bd929b6"
      },
      "source": [
        "from xgboost import XGBClassifier\n",
        "xgb = XGBClassifier( learning_rate=0.5 , n_estimators=50 , n_jobs=-1 , verbosity=1)\n",
        "xgb.fit(x_train, y_train)\n",
        "y_pred = xgb.predict(x_val)\n",
        "print(\"Balancer Accuracy =\", balanced_accuracy_score(y_val, y_pred))"
      ],
      "execution_count": 28,
      "outputs": [
        {
          "output_type": "stream",
          "text": [
            "Balancer Accuracy = 0.9090909090909092\n"
          ],
          "name": "stdout"
        }
      ]
    },
    {
      "cell_type": "markdown",
      "metadata": {
        "id": "tWsVOPnNQfGZ"
      },
      "source": [
        "### New Testset"
      ]
    },
    {
      "cell_type": "code",
      "metadata": {
        "colab": {
          "base_uri": "https://localhost:8080/"
        },
        "id": "bdTjU92rQiBZ",
        "outputId": "ea97338a-828d-4809-b801-7ff8a29b1d27"
      },
      "source": [
        "from tqdm import tqdm\n",
        "import os\n",
        "import PIL.Image as Image\n",
        "import torch\n",
        "\n",
        "test_dir = path_data + '/testset'\n",
        "\n",
        "\n",
        "def pil_loader(path):\n",
        "    # open path as file to avoid ResourceWarning (https://github.com/python-pillow/Pillow/issues/835)\n",
        "    with open(path, 'rb') as f:\n",
        "        with Image.open(f) as img:\n",
        "            return img.convert('RGB')\n",
        "\n",
        "for idx in range(len(test_csv)):\n",
        "    if (idx)%10==0:\n",
        "      print(idx)\n",
        "    images, target, patient = testset[idx]\n",
        "    if use_cuda:\n",
        "        target = target.cuda().unsqueeze(0)\n",
        "\n",
        "    output = 0\n",
        "    for data in images:\n",
        "      data = data.cuda().unsqueeze(0)\n",
        "      output += net(data)\n",
        "    output /= len(images)\n",
        "    pred=output.data.max(1, keepdim=True)[1].item()  \n",
        "    test_csv[\"model_output\"].loc[test_csv[\"ID\"]==patient] = pred "
      ],
      "execution_count": 29,
      "outputs": [
        {
          "output_type": "stream",
          "text": [
            "0\n",
            "10\n",
            "20\n",
            "30\n",
            "40\n"
          ],
          "name": "stdout"
        }
      ]
    },
    {
      "cell_type": "markdown",
      "metadata": {
        "id": "WSlVVMCHa05S"
      },
      "source": [
        "## Submission file"
      ]
    },
    {
      "cell_type": "code",
      "metadata": {
        "id": "NTYI8OahazIU",
        "colab": {
          "base_uri": "https://localhost:8080/"
        },
        "outputId": "b6124dc3-cad6-4f91-d500-4739ae714080"
      },
      "source": [
        "test_ID = test_csv[\"ID\"]\n",
        "x_test = test_csv.drop([\"ID\", \"LABEL\"], axis=1)\n",
        "\n",
        "output_file = open('kaggle1.csv', \"w\")\n",
        "output_file.write(\"ID,Predicted\\n\")\n",
        "\n",
        "for idx in range(len(test_csv)):\n",
        "    pred = xgb.predict(x_test.iloc[idx])[0]\n",
        "    output_file.write(\"%s,%d\\n\" % (test_csv.iloc[idx, 0], pred))\n",
        "\n",
        "output_file.close()\n",
        "print(\"Succesfully wrote \" + 'kaggle1.csv' + ', you can upload this file to the kaggle competition website')\n"
      ],
      "execution_count": 30,
      "outputs": [
        {
          "output_type": "stream",
          "text": [
            "Succesfully wrote kaggle1.csv, you can upload this file to the kaggle competition website\n"
          ],
          "name": "stdout"
        }
      ]
    },
    {
      "cell_type": "markdown",
      "metadata": {
        "id": "e3_Y8sDEQGCA"
      },
      "source": [
        "# Deep MIL"
      ]
    },
    {
      "cell_type": "markdown",
      "metadata": {
        "id": "1axXfe1A50k6"
      },
      "source": [
        "### Loading encoder-decoder's features"
      ]
    },
    {
      "cell_type": "code",
      "metadata": {
        "colab": {
          "base_uri": "https://localhost:8080/"
        },
        "id": "UECz28eNGu6m",
        "outputId": "f47f44fb-38a0-436e-80db-d27abf5bd562"
      },
      "source": [
        "train_data = pd.read_csv(path_data + '/train_features_8192.csv')\n",
        "val_data = pd.read_csv(path_data + '/val_features_8192.csv')\n",
        "train_data = pd.concat([train_data, val_data])\n",
        "print(train_data.shape)\n",
        "\n",
        "train_patients = pd.unique(train_csv['ID'])\n",
        "val_patients = pd.unique(val_csv['ID'])"
      ],
      "execution_count": 31,
      "outputs": [
        {
          "output_type": "stream",
          "text": [
            "(13453, 8196)\n"
          ],
          "name": "stdout"
        }
      ]
    },
    {
      "cell_type": "code",
      "metadata": {
        "id": "TX1Uf3pgM57T"
      },
      "source": [
        "from sklearn.decomposition import PCA\n",
        "from sklearn.preprocessing import StandardScaler\n",
        "\n",
        "nc = 3000\n",
        "pca = PCA(n_components=nc)\n",
        "data = train_data[[f'image_features_{k}' for k in range(8192)]].values\n",
        "scaler = StandardScaler() \n",
        "data = scaler.fit_transform(data)\n",
        "aux_pca = pca.fit_transform(data)"
      ],
      "execution_count": 32,
      "outputs": []
    },
    {
      "cell_type": "code",
      "metadata": {
        "colab": {
          "base_uri": "https://localhost:8080/",
          "height": 281
        },
        "id": "XsXk5HE4RrXi",
        "outputId": "bb2fb43e-ee2e-4a08-9f56-c7a217e670da"
      },
      "source": [
        "plt.scatter(range(nc), pca.singular_values_/np.sum(pca.singular_values_))"
      ],
      "execution_count": 33,
      "outputs": [
        {
          "output_type": "execute_result",
          "data": {
            "text/plain": [
              "<matplotlib.collections.PathCollection at 0x7fd98509a310>"
            ]
          },
          "metadata": {
            "tags": []
          },
          "execution_count": 33
        },
        {
          "output_type": "display_data",
          "data": {
            "image/png": "[encoded data removed]",
            "text/plain": [
              "<Figure size 432x288 with 1 Axes>"
            ]
          },
          "metadata": {
            "tags": [],
            "needs_background": "light"
          }
        }
      ]
    },
    {
      "cell_type": "code",
      "metadata": {
        "colab": {
          "base_uri": "https://localhost:8080/",
          "height": 245
        },
        "id": "8bAj1Fx2PfcK",
        "outputId": "41ad9079-6221-4420-c23f-8abac7bb3dea"
      },
      "source": [
        "aux = np.column_stack((train_data['ID_patient'], aux_pca.astype(np.float16)))\n",
        "train_pca = pd.DataFrame(data = aux, columns = ['ID_patient']+[f'pca_features_{k}' for k in range(nc)])\n",
        "train_pca.head(5)"
      ],
      "execution_count": 34,
      "outputs": [
        {
          "output_type": "execute_result",
          "data": {
            "text/html": [
              "<div>\n",
              "<style scoped>\n",
              "    .dataframe tbody tr th:only-of-type {\n",
              "        vertical-align: middle;\n",
              "    }\n",
              "\n",
              "    .dataframe tbody tr th {\n",
              "        vertical-align: top;\n",
              "    }\n",
              "\n",
              "    .dataframe thead th {\n",
              "        text-align: right;\n",
              "    }\n",
              "</style>\n",
              "<table border=\"1\" class=\"dataframe\">\n",
              "  <thead>\n",
              "    <tr style=\"text-align: right;\">\n",
              "      <th></th>\n",
              "      <th>ID_patient</th>\n",
              "      <th>pca_features_0</th>\n",
              "      <th>pca_features_1</th>\n",
              "      <th>pca_features_2</th>\n",
              "      <th>pca_features_3</th>\n",
              "      <th>pca_features_4</th>\n",
              "      <th>pca_features_5</th>\n",
              "      <th>pca_features_6</th>\n",
              "      <th>pca_features_7</th>\n",
              "      <th>pca_features_8</th>\n",
              "      <th>pca_features_9</th>\n",
              "      <th>pca_features_10</th>\n",
              "      <th>pca_features_11</th>\n",
              "      <th>pca_features_12</th>\n",
              "      <th>pca_features_13</th>\n",
              "      <th>pca_features_14</th>\n",
              "      <th>pca_features_15</th>\n",
              "      <th>pca_features_16</th>\n",
              "      <th>pca_features_17</th>\n",
              "      <th>pca_features_18</th>\n",
              "      <th>pca_features_19</th>\n",
              "      <th>pca_features_20</th>\n",
              "      <th>pca_features_21</th>\n",
              "      <th>pca_features_22</th>\n",
              "      <th>pca_features_23</th>\n",
              "      <th>pca_features_24</th>\n",
              "      <th>pca_features_25</th>\n",
              "      <th>pca_features_26</th>\n",
              "      <th>pca_features_27</th>\n",
              "      <th>pca_features_28</th>\n",
              "      <th>pca_features_29</th>\n",
              "      <th>pca_features_30</th>\n",
              "      <th>pca_features_31</th>\n",
              "      <th>pca_features_32</th>\n",
              "      <th>pca_features_33</th>\n",
              "      <th>pca_features_34</th>\n",
              "      <th>pca_features_35</th>\n",
              "      <th>pca_features_36</th>\n",
              "      <th>pca_features_37</th>\n",
              "      <th>pca_features_38</th>\n",
              "      <th>...</th>\n",
              "      <th>pca_features_2960</th>\n",
              "      <th>pca_features_2961</th>\n",
              "      <th>pca_features_2962</th>\n",
              "      <th>pca_features_2963</th>\n",
              "      <th>pca_features_2964</th>\n",
              "      <th>pca_features_2965</th>\n",
              "      <th>pca_features_2966</th>\n",
              "      <th>pca_features_2967</th>\n",
              "      <th>pca_features_2968</th>\n",
              "      <th>pca_features_2969</th>\n",
              "      <th>pca_features_2970</th>\n",
              "      <th>pca_features_2971</th>\n",
              "      <th>pca_features_2972</th>\n",
              "      <th>pca_features_2973</th>\n",
              "      <th>pca_features_2974</th>\n",
              "      <th>pca_features_2975</th>\n",
              "      <th>pca_features_2976</th>\n",
              "      <th>pca_features_2977</th>\n",
              "      <th>pca_features_2978</th>\n",
              "      <th>pca_features_2979</th>\n",
              "      <th>pca_features_2980</th>\n",
              "      <th>pca_features_2981</th>\n",
              "      <th>pca_features_2982</th>\n",
              "      <th>pca_features_2983</th>\n",
              "      <th>pca_features_2984</th>\n",
              "      <th>pca_features_2985</th>\n",
              "      <th>pca_features_2986</th>\n",
              "      <th>pca_features_2987</th>\n",
              "      <th>pca_features_2988</th>\n",
              "      <th>pca_features_2989</th>\n",
              "      <th>pca_features_2990</th>\n",
              "      <th>pca_features_2991</th>\n",
              "      <th>pca_features_2992</th>\n",
              "      <th>pca_features_2993</th>\n",
              "      <th>pca_features_2994</th>\n",
              "      <th>pca_features_2995</th>\n",
              "      <th>pca_features_2996</th>\n",
              "      <th>pca_features_2997</th>\n",
              "      <th>pca_features_2998</th>\n",
              "      <th>pca_features_2999</th>\n",
              "    </tr>\n",
              "  </thead>\n",
              "  <tbody>\n",
              "    <tr>\n",
              "      <th>0</th>\n",
              "      <td>P0</td>\n",
              "      <td>-7.80859</td>\n",
              "      <td>-4.95703</td>\n",
              "      <td>0.538574</td>\n",
              "      <td>-0.170044</td>\n",
              "      <td>0.205688</td>\n",
              "      <td>-0.618164</td>\n",
              "      <td>-0.461182</td>\n",
              "      <td>0.00378418</td>\n",
              "      <td>0.513184</td>\n",
              "      <td>-0.0651855</td>\n",
              "      <td>0.283203</td>\n",
              "      <td>0.0568542</td>\n",
              "      <td>0.0682983</td>\n",
              "      <td>-0.0685425</td>\n",
              "      <td>-0.0720825</td>\n",
              "      <td>-0.158936</td>\n",
              "      <td>0.403076</td>\n",
              "      <td>-0.736816</td>\n",
              "      <td>-0.0233917</td>\n",
              "      <td>0.0241241</td>\n",
              "      <td>-0.718262</td>\n",
              "      <td>-0.0226746</td>\n",
              "      <td>-0.185303</td>\n",
              "      <td>0.231079</td>\n",
              "      <td>-0.0736084</td>\n",
              "      <td>0.417969</td>\n",
              "      <td>-0.04422</td>\n",
              "      <td>-0.35376</td>\n",
              "      <td>0.36499</td>\n",
              "      <td>0.442871</td>\n",
              "      <td>0.943359</td>\n",
              "      <td>-0.0932617</td>\n",
              "      <td>0.294434</td>\n",
              "      <td>0.375244</td>\n",
              "      <td>0.0808105</td>\n",
              "      <td>-0.139771</td>\n",
              "      <td>0.0353088</td>\n",
              "      <td>-0.660156</td>\n",
              "      <td>0.904297</td>\n",
              "      <td>...</td>\n",
              "      <td>-0.00172424</td>\n",
              "      <td>0.00375175</td>\n",
              "      <td>-0.0308533</td>\n",
              "      <td>-0.0209808</td>\n",
              "      <td>0.0261688</td>\n",
              "      <td>-0.0155029</td>\n",
              "      <td>0.0125275</td>\n",
              "      <td>0.0189667</td>\n",
              "      <td>-0.0127945</td>\n",
              "      <td>-0.0262909</td>\n",
              "      <td>0.0132217</td>\n",
              "      <td>-0.017807</td>\n",
              "      <td>-0.0236816</td>\n",
              "      <td>-0.0392456</td>\n",
              "      <td>0.016098</td>\n",
              "      <td>-0.0218201</td>\n",
              "      <td>-0.0204315</td>\n",
              "      <td>0.00421143</td>\n",
              "      <td>0.00954437</td>\n",
              "      <td>0.025116</td>\n",
              "      <td>-0.0170135</td>\n",
              "      <td>-0.0068779</td>\n",
              "      <td>0.00644302</td>\n",
              "      <td>-0.0302277</td>\n",
              "      <td>-0.0180206</td>\n",
              "      <td>-0.0164642</td>\n",
              "      <td>0.0103455</td>\n",
              "      <td>0.00328255</td>\n",
              "      <td>-0.00297165</td>\n",
              "      <td>0.0333252</td>\n",
              "      <td>0.0149765</td>\n",
              "      <td>-0.0159302</td>\n",
              "      <td>0.0122757</td>\n",
              "      <td>0.018158</td>\n",
              "      <td>0.00135612</td>\n",
              "      <td>0.035614</td>\n",
              "      <td>0.000208259</td>\n",
              "      <td>-0.0108566</td>\n",
              "      <td>0.0236053</td>\n",
              "      <td>0.0263672</td>\n",
              "    </tr>\n",
              "    <tr>\n",
              "      <th>1</th>\n",
              "      <td>P0</td>\n",
              "      <td>-8</td>\n",
              "      <td>-5.57422</td>\n",
              "      <td>0.201294</td>\n",
              "      <td>-0.0273743</td>\n",
              "      <td>-0.0041008</td>\n",
              "      <td>-0.0242462</td>\n",
              "      <td>-0.901367</td>\n",
              "      <td>-0.415771</td>\n",
              "      <td>1.07031</td>\n",
              "      <td>0.180664</td>\n",
              "      <td>0.438965</td>\n",
              "      <td>0.032135</td>\n",
              "      <td>0.649902</td>\n",
              "      <td>0.0493774</td>\n",
              "      <td>-0.317139</td>\n",
              "      <td>-0.63916</td>\n",
              "      <td>-0.0502625</td>\n",
              "      <td>-0.783691</td>\n",
              "      <td>0.199097</td>\n",
              "      <td>-0.199463</td>\n",
              "      <td>-0.944336</td>\n",
              "      <td>-0.190186</td>\n",
              "      <td>-0.0595703</td>\n",
              "      <td>1.07812</td>\n",
              "      <td>-0.0872803</td>\n",
              "      <td>0.524902</td>\n",
              "      <td>0.140625</td>\n",
              "      <td>-0.667969</td>\n",
              "      <td>0.0191193</td>\n",
              "      <td>1.1748</td>\n",
              "      <td>1.68555</td>\n",
              "      <td>-0.670898</td>\n",
              "      <td>0.0806274</td>\n",
              "      <td>1.03613</td>\n",
              "      <td>-0.00132561</td>\n",
              "      <td>0.908203</td>\n",
              "      <td>-0.258789</td>\n",
              "      <td>-1.88184</td>\n",
              "      <td>-0.883789</td>\n",
              "      <td>...</td>\n",
              "      <td>0.000916004</td>\n",
              "      <td>0.00820923</td>\n",
              "      <td>0.0148849</td>\n",
              "      <td>0.00590897</td>\n",
              "      <td>0.00330734</td>\n",
              "      <td>-0.00779343</td>\n",
              "      <td>-0.0343323</td>\n",
              "      <td>0.01371</td>\n",
              "      <td>-0.0114059</td>\n",
              "      <td>0.0125046</td>\n",
              "      <td>-0.0232239</td>\n",
              "      <td>0.0138702</td>\n",
              "      <td>-0.00417709</td>\n",
              "      <td>-0.0338745</td>\n",
              "      <td>0.00348473</td>\n",
              "      <td>0.00126362</td>\n",
              "      <td>0.0119553</td>\n",
              "      <td>-0.00222778</td>\n",
              "      <td>0.00580978</td>\n",
              "      <td>0.00985718</td>\n",
              "      <td>-0.0141907</td>\n",
              "      <td>-0.00744247</td>\n",
              "      <td>-0.0102615</td>\n",
              "      <td>0.0104218</td>\n",
              "      <td>-0.00816345</td>\n",
              "      <td>-0.0175171</td>\n",
              "      <td>-0.00809479</td>\n",
              "      <td>-0.00875854</td>\n",
              "      <td>0.00225639</td>\n",
              "      <td>0.0240631</td>\n",
              "      <td>0.0083313</td>\n",
              "      <td>0.0189972</td>\n",
              "      <td>-0.00699615</td>\n",
              "      <td>-0.00749969</td>\n",
              "      <td>-0.0139542</td>\n",
              "      <td>-0.00823975</td>\n",
              "      <td>-0.000359774</td>\n",
              "      <td>0.00596237</td>\n",
              "      <td>-0.0328064</td>\n",
              "      <td>-0.0152512</td>\n",
              "    </tr>\n",
              "    <tr>\n",
              "      <th>2</th>\n",
              "      <td>P0</td>\n",
              "      <td>-7.75781</td>\n",
              "      <td>-4.60156</td>\n",
              "      <td>-0.225098</td>\n",
              "      <td>-0.54541</td>\n",
              "      <td>0.720703</td>\n",
              "      <td>0.180908</td>\n",
              "      <td>-0.754883</td>\n",
              "      <td>-0.644043</td>\n",
              "      <td>1.33496</td>\n",
              "      <td>0.350342</td>\n",
              "      <td>0.320801</td>\n",
              "      <td>-0.357422</td>\n",
              "      <td>0.534668</td>\n",
              "      <td>0.44043</td>\n",
              "      <td>-0.190796</td>\n",
              "      <td>-0.868164</td>\n",
              "      <td>0.364258</td>\n",
              "      <td>-0.262695</td>\n",
              "      <td>0.272705</td>\n",
              "      <td>0.130005</td>\n",
              "      <td>-1.55957</td>\n",
              "      <td>0.526367</td>\n",
              "      <td>-0.125244</td>\n",
              "      <td>1.12988</td>\n",
              "      <td>-0.968262</td>\n",
              "      <td>0.930176</td>\n",
              "      <td>0.0786133</td>\n",
              "      <td>-0.127563</td>\n",
              "      <td>-0.510254</td>\n",
              "      <td>0.79541</td>\n",
              "      <td>0.386475</td>\n",
              "      <td>-0.441162</td>\n",
              "      <td>-0.293701</td>\n",
              "      <td>0.243408</td>\n",
              "      <td>-0.101685</td>\n",
              "      <td>0.623535</td>\n",
              "      <td>-0.307861</td>\n",
              "      <td>-0.794922</td>\n",
              "      <td>-1.49805</td>\n",
              "      <td>...</td>\n",
              "      <td>0.0187225</td>\n",
              "      <td>-0.00322914</td>\n",
              "      <td>-0.00375748</td>\n",
              "      <td>0.00791931</td>\n",
              "      <td>-0.0100021</td>\n",
              "      <td>-0.0150757</td>\n",
              "      <td>0.00691605</td>\n",
              "      <td>-0.0361023</td>\n",
              "      <td>0.0114822</td>\n",
              "      <td>-0.00952911</td>\n",
              "      <td>-0.00677872</td>\n",
              "      <td>-0.0276947</td>\n",
              "      <td>0.00217056</td>\n",
              "      <td>-0.00835419</td>\n",
              "      <td>-0.00196075</td>\n",
              "      <td>-0.0220337</td>\n",
              "      <td>0.00328255</td>\n",
              "      <td>0.00463104</td>\n",
              "      <td>-0.0299072</td>\n",
              "      <td>-0.00439453</td>\n",
              "      <td>-0.00174809</td>\n",
              "      <td>-0.00632095</td>\n",
              "      <td>-0.00589371</td>\n",
              "      <td>0.00071764</td>\n",
              "      <td>-0.00070715</td>\n",
              "      <td>-0.0110245</td>\n",
              "      <td>0.00971985</td>\n",
              "      <td>0.00936127</td>\n",
              "      <td>0.0212097</td>\n",
              "      <td>-0.0294952</td>\n",
              "      <td>-0.00588226</td>\n",
              "      <td>0.00385475</td>\n",
              "      <td>-0.00214386</td>\n",
              "      <td>0.0154343</td>\n",
              "      <td>-0.0135498</td>\n",
              "      <td>-0.000608444</td>\n",
              "      <td>0.0113373</td>\n",
              "      <td>0.0282898</td>\n",
              "      <td>0.00101376</td>\n",
              "      <td>-0.0363464</td>\n",
              "    </tr>\n",
              "    <tr>\n",
              "      <th>3</th>\n",
              "      <td>P0</td>\n",
              "      <td>-7.75391</td>\n",
              "      <td>-4.54297</td>\n",
              "      <td>0.38501</td>\n",
              "      <td>-0.752441</td>\n",
              "      <td>0.755859</td>\n",
              "      <td>-0.526367</td>\n",
              "      <td>-0.445557</td>\n",
              "      <td>0.00139427</td>\n",
              "      <td>1.05762</td>\n",
              "      <td>0.499023</td>\n",
              "      <td>0.522461</td>\n",
              "      <td>-0.135376</td>\n",
              "      <td>0.160034</td>\n",
              "      <td>-0.00919342</td>\n",
              "      <td>0.0238647</td>\n",
              "      <td>-0.374756</td>\n",
              "      <td>-0.136719</td>\n",
              "      <td>-0.606445</td>\n",
              "      <td>0.870605</td>\n",
              "      <td>-0.0550842</td>\n",
              "      <td>-0.0562744</td>\n",
              "      <td>-0.151978</td>\n",
              "      <td>-0.556641</td>\n",
              "      <td>0.825684</td>\n",
              "      <td>-0.124084</td>\n",
              "      <td>0.938965</td>\n",
              "      <td>0.120605</td>\n",
              "      <td>0.0609436</td>\n",
              "      <td>-0.436768</td>\n",
              "      <td>1.44922</td>\n",
              "      <td>0.326172</td>\n",
              "      <td>-0.943848</td>\n",
              "      <td>-0.0407104</td>\n",
              "      <td>0.569824</td>\n",
              "      <td>-0.505859</td>\n",
              "      <td>0.902832</td>\n",
              "      <td>-0.213745</td>\n",
              "      <td>-1.22656</td>\n",
              "      <td>-1.91309</td>\n",
              "      <td>...</td>\n",
              "      <td>0.00394821</td>\n",
              "      <td>-8.85129e-05</td>\n",
              "      <td>-0.015976</td>\n",
              "      <td>0.0180359</td>\n",
              "      <td>0.0128555</td>\n",
              "      <td>-0.0187531</td>\n",
              "      <td>-0.0175323</td>\n",
              "      <td>0.00310898</td>\n",
              "      <td>0.0324707</td>\n",
              "      <td>-0.0243835</td>\n",
              "      <td>-0.0263214</td>\n",
              "      <td>-0.00644684</td>\n",
              "      <td>-0.0350647</td>\n",
              "      <td>-0.00534821</td>\n",
              "      <td>-0.00869751</td>\n",
              "      <td>-0.0323792</td>\n",
              "      <td>0.000840187</td>\n",
              "      <td>0.00758362</td>\n",
              "      <td>-0.00479889</td>\n",
              "      <td>0.0283051</td>\n",
              "      <td>-0.00690842</td>\n",
              "      <td>0.0125351</td>\n",
              "      <td>0.0151825</td>\n",
              "      <td>0.00231361</td>\n",
              "      <td>0.00731277</td>\n",
              "      <td>-0.0102692</td>\n",
              "      <td>-0.0161896</td>\n",
              "      <td>-0.0185699</td>\n",
              "      <td>-0.00702286</td>\n",
              "      <td>-0.0153198</td>\n",
              "      <td>-0.0114365</td>\n",
              "      <td>-0.0129395</td>\n",
              "      <td>0.00799561</td>\n",
              "      <td>-0.0103531</td>\n",
              "      <td>0.0431213</td>\n",
              "      <td>0.0121841</td>\n",
              "      <td>-0.0250092</td>\n",
              "      <td>0.0381775</td>\n",
              "      <td>-0.0260773</td>\n",
              "      <td>0.00758743</td>\n",
              "    </tr>\n",
              "    <tr>\n",
              "      <th>4</th>\n",
              "      <td>P0</td>\n",
              "      <td>-6.92969</td>\n",
              "      <td>-3.4043</td>\n",
              "      <td>-0.254395</td>\n",
              "      <td>-0.452393</td>\n",
              "      <td>0.509277</td>\n",
              "      <td>-0.870605</td>\n",
              "      <td>-0.353271</td>\n",
              "      <td>-0.0346375</td>\n",
              "      <td>0.90918</td>\n",
              "      <td>0.00392914</td>\n",
              "      <td>-0.0449829</td>\n",
              "      <td>-0.919922</td>\n",
              "      <td>0.265137</td>\n",
              "      <td>0.631836</td>\n",
              "      <td>0.508789</td>\n",
              "      <td>-0.73584</td>\n",
              "      <td>-0.052063</td>\n",
              "      <td>0.0256958</td>\n",
              "      <td>0.219604</td>\n",
              "      <td>0.206299</td>\n",
              "      <td>0.631836</td>\n",
              "      <td>-0.389893</td>\n",
              "      <td>-0.79541</td>\n",
              "      <td>-0.0631104</td>\n",
              "      <td>-0.468262</td>\n",
              "      <td>-0.208862</td>\n",
              "      <td>-0.0184937</td>\n",
              "      <td>-0.0164642</td>\n",
              "      <td>-0.205566</td>\n",
              "      <td>-0.0993042</td>\n",
              "      <td>-0.159058</td>\n",
              "      <td>-0.0686035</td>\n",
              "      <td>-0.0344238</td>\n",
              "      <td>-0.494873</td>\n",
              "      <td>-0.269531</td>\n",
              "      <td>-0.34082</td>\n",
              "      <td>0.155762</td>\n",
              "      <td>1.27148</td>\n",
              "      <td>0.375977</td>\n",
              "      <td>...</td>\n",
              "      <td>-0.029007</td>\n",
              "      <td>0.0116577</td>\n",
              "      <td>-0.04599</td>\n",
              "      <td>0.0280151</td>\n",
              "      <td>-0.0131989</td>\n",
              "      <td>0.00350571</td>\n",
              "      <td>0.0183105</td>\n",
              "      <td>0.014389</td>\n",
              "      <td>-0.0399475</td>\n",
              "      <td>0.051178</td>\n",
              "      <td>-0.0138168</td>\n",
              "      <td>-0.053894</td>\n",
              "      <td>0.0123672</td>\n",
              "      <td>-0.0245056</td>\n",
              "      <td>0.0257568</td>\n",
              "      <td>0.0149536</td>\n",
              "      <td>-0.0052681</td>\n",
              "      <td>-0.00779724</td>\n",
              "      <td>-0.0104294</td>\n",
              "      <td>-0.0334167</td>\n",
              "      <td>0.0222626</td>\n",
              "      <td>0.0367126</td>\n",
              "      <td>0.0486145</td>\n",
              "      <td>0.0321045</td>\n",
              "      <td>-0.00416565</td>\n",
              "      <td>-0.0207825</td>\n",
              "      <td>-0.0249329</td>\n",
              "      <td>0.0362854</td>\n",
              "      <td>-0.00767899</td>\n",
              "      <td>-0.00304031</td>\n",
              "      <td>0.00189686</td>\n",
              "      <td>0.0395813</td>\n",
              "      <td>0.00679016</td>\n",
              "      <td>0.0384827</td>\n",
              "      <td>0.0535889</td>\n",
              "      <td>0.0189667</td>\n",
              "      <td>-0.0544434</td>\n",
              "      <td>-0.0266571</td>\n",
              "      <td>0.019516</td>\n",
              "      <td>-0.00676346</td>\n",
              "    </tr>\n",
              "  </tbody>\n",
              "</table>\n",
              "<p>5 rows × 3001 columns</p>\n",
              "</div>"
            ],
            "text/plain": [
              "  ID_patient pca_features_0  ... pca_features_2998 pca_features_2999\n",
              "0         P0       -7.80859  ...         0.0236053         0.0263672\n",
              "1         P0             -8  ...        -0.0328064        -0.0152512\n",
              "2         P0       -7.75781  ...        0.00101376        -0.0363464\n",
              "3         P0       -7.75391  ...        -0.0260773        0.00758743\n",
              "4         P0       -6.92969  ...          0.019516       -0.00676346\n",
              "\n",
              "[5 rows x 3001 columns]"
            ]
          },
          "metadata": {
            "tags": []
          },
          "execution_count": 34
        }
      ]
    },
    {
      "cell_type": "markdown",
      "metadata": {
        "id": "PMNOiDCG3JDg"
      },
      "source": [
        "### Architecture"
      ]
    },
    {
      "cell_type": "code",
      "metadata": {
        "id": "YiJ2b4l2cwc5"
      },
      "source": [
        "class layer(nn.Module):\n",
        "  def __init__(self, input, output, droprate=0.0):\n",
        "      super(layer, self).__init__()\n",
        "      self.l = nn.Linear(input, output)\n",
        "      self.act = nn.ReLU()\n",
        "      self.norm = nn.LayerNorm(output)\n",
        "      self.drop = nn.Dropout(droprate)\n",
        "\n",
        "  def forward(self, inputs):\n",
        "      out = self.act(self.l(inputs))\n",
        "      out = self.norm(out)\n",
        "      out = self.drop(out)\n",
        "      return out\n",
        "\n",
        "class DeepSets_fixed_features(nn.Module):\n",
        "  def __init__(self, activation = nn.ReLU(), device = 'cuda', L=64, f=64, M=512, x=4, y=2, droprate=0.25):\n",
        "    super(DeepSets_fixed_features, self).__init__()\n",
        "    self.L = L\n",
        "    self.M = M  ## dimension of the embedding\n",
        "    self.f = f\n",
        "    self.x = x\n",
        "    self.y = y\n",
        "    self.activation = activation\n",
        "\n",
        "\n",
        "    ## Attention\n",
        "    self.attention = nn.Sequential(nn.Linear(nc, self.L),\n",
        "                                   nn.Tanh(),\n",
        "                                   nn.Linear(self.L, 1))  \n",
        "\n",
        "    ## applied to features\n",
        "    self.image_layers = []  \n",
        "    self.image_layers.append(layer(nc, self.M, droprate))\n",
        "    for i in range(y):\n",
        "      self.image_layers.append(layer(self.M, self.M, droprate))\n",
        "    self.image_layers = nn.Sequential(*self.image_layers)  \n",
        "\n",
        "    ## Applied to data\n",
        "    self.data_layers = []  \n",
        "    self.data_layers.append(layer(2, self.f, droprate))\n",
        "    for i in range(y):\n",
        "      self.data_layers.append(layer(self.f, self.f, droprate))\n",
        "    self.data_layers = nn.Sequential(*self.data_layers)\n",
        "\n",
        "    ## Applied to features + data\n",
        "    self.final_layer = nn.Linear(self.f + self.M, 2)\n",
        "    self.device = device\n",
        "  \n",
        "\n",
        "  def forward(self , images , data):\n",
        "    bag_of_features = []\n",
        "    for image in images : \n",
        "      features = image.unsqueeze(0).type(torch.FloatTensor).to(self.device)\n",
        "      bag_of_features.append(features)\n",
        "\n",
        "    bag_of_features = torch.stack(bag_of_features) ### Nx1xM\n",
        "    bag_of_features1 = torch.max(torch.squeeze(bag_of_features, axis=1), axis=0)[0] ### NxM\n",
        "    bag_of_features2 = torch.mean(torch.squeeze(bag_of_features, axis=1), axis=0) \n",
        "    bag_of_features3 = torch.std(torch.squeeze(bag_of_features, axis=1), axis=0)\n",
        "\n",
        "    attention = self.attention(bag_of_features).squeeze() ### Nx1\n",
        "    attention = F.softmax(attention)\n",
        "    bag_of_features4 = ((bag_of_features.T) @ attention) ### 1xM\n",
        "\n",
        "    bag_of_features = self.image_layers(bag_of_features4.T)\n",
        "  \n",
        "    data_features = self.data_layers(data)\n",
        "    out = torch.cat((bag_of_features, data_features), 1)\n",
        "    out = self.final_layer(out)\n",
        "\n",
        "    return out"
      ],
      "execution_count": 35,
      "outputs": []
    },
    {
      "cell_type": "code",
      "metadata": {
        "id": "FtzWKm6vF47G"
      },
      "source": [
        "use_cuda = torch.cuda.is_available()\n",
        "device = 'cuda' if use_cuda else 'cpu'\n",
        "\n",
        "# Train and test \n",
        "def train_deep_sets_with_prepared_features(net, epochs, prints=1):    \n",
        "    training_loss=[]\n",
        "    train_accuracy=[]\n",
        "    validation_loss=[]\n",
        "    validation_accuracy=[]\n",
        "    best_loss = 10\n",
        "    best_acc = 0\n",
        "    p = 10\n",
        "    metrics = []\n",
        "    \n",
        "    for epoch in range(epochs):\n",
        "        train_loss = 0\n",
        "        y_pred = []\n",
        "        y_truth = []\n",
        "        total = 0\n",
        "                \n",
        "        for patient in train_patients:\n",
        "            bag = torch.tensor(train_pca.groupby('ID_patient').get_group(patient)[[f'pca_features_{k}' for k in range(nc)]].values.astype(np.float))\n",
        "            data = torch.Tensor(train_csv_preprocessed[['LYMPH_COUNT','DOB']].loc[train_csv_preprocessed[\"ID\"]==patient].values)      \n",
        "            targets = int(train_csv_preprocessed.loc[train_csv_preprocessed['ID'] == patient]['LABEL'])\n",
        "            targets = torch.tensor(targets).to(device).unsqueeze(0)\n",
        "            outputs = net(bag , data)\n",
        "\n",
        "            loss = criterion(outputs, targets)\n",
        "            loss.backward()\n",
        "            optimizer.step()\n",
        "\n",
        "            train_loss += loss.item()\n",
        "            _, predicted = outputs.max(1)\n",
        "            total += targets.size(0)\n",
        "            y_pred.append(predicted.item())\n",
        "            y_truth.append(targets.item())\n",
        "\n",
        "        t_accuracy = balanced_accuracy_score(y_truth, y_pred)\n",
        "        t_loss = train_loss/ len(train_patients)\n",
        "        train_accuracy.append(t_accuracy)\n",
        "        training_loss.append(t_loss)\n",
        "\n",
        "        #Validation\n",
        "        net.eval()\n",
        "        val_loss = 0\n",
        "        y_pred = []\n",
        "        y_truth = []\n",
        "        total = 0\n",
        "        for patient in val_patients:\n",
        "            bag = torch.tensor(train_pca.groupby('ID_patient').get_group(patient)[[f'pca_features_{k}' for k in range(nc)]].values.astype(np.float))\n",
        "            data = torch.Tensor(train_csv_preprocessed[['LYMPH_COUNT','DOB']].loc[train_csv_preprocessed[\"ID\"]==patient].values)      \n",
        "            targets = int(train_csv_preprocessed.loc[train_csv_preprocessed['ID'] == patient]['LABEL'])\n",
        "            targets = torch.tensor(targets).to(device).unsqueeze(0)\n",
        "\n",
        "            outputs = net(bag , data)\n",
        "            loss = criterion(outputs, targets) \n",
        "\n",
        "            val_loss += loss.item()\n",
        "            _, predicted = outputs.max(1)\n",
        "            total += targets.size(0)\n",
        "            y_pred.append(predicted.item())\n",
        "            y_truth.append(targets.item())\n",
        "\n",
        "\n",
        "        v_balanced_accuracy = balanced_accuracy_score(y_truth, y_pred)\n",
        "        v_recall = recall_score(y_truth, y_pred)\n",
        "        v_precision = precision_score(y_truth, y_pred)\n",
        "        v_f1 = f1_score(y_truth, y_pred)\n",
        "        v_loss = val_loss/ len(val_patients)\n",
        "        validation_accuracy.append(v_balanced_accuracy)\n",
        "        validation_loss.append(v_loss)\n",
        "        scheduler.step(v_balanced_accuracy)\n",
        "\n",
        "\n",
        "        if (epoch+1) % prints==0:\n",
        "          print(\"\"\"Epoch [{}/{}],\\t Train Loss: {:.4f}, \\t Train accuracy={:.4f}%,\\t Validation Loss: {:.4f},\n",
        "           Validation Balanced accuracy={:.4f}%, \\t Validation F1 score={:.4f}, \\t Validation Recall={:.4f}, \\t Validation Precision={:.4f}\"\"\"\n",
        "                          .format(epoch+1, epochs, t_loss , t_accuracy , v_loss, v_balanced_accuracy, v_f1, v_recall, v_precision))\n",
        "\n",
        "\n",
        "        if (v_loss - 0.05 < best_loss and v_balanced_accuracy >= best_acc) or (v_loss - 0.05 < best_loss and v_balanced_accuracy == best_acc):\n",
        "          best_loss = min(v_loss, best_loss)\n",
        "          best_acc = v_balanced_accuracy\n",
        "          metrics = [v_f1, v_recall, v_precision]\n",
        "          torch.save(net.state_dict(), 'model.pth')\n",
        "          if prints == 1:\n",
        "            print(\"saved model...\")\n",
        "          p = 10\n",
        "        else:\n",
        "          p -= 1\n",
        "        \n",
        "        if prints == 1:\n",
        "          print()\n",
        "\n",
        "    return train_accuracy , training_loss , validation_accuracy , validation_loss, best_acc, best_loss, metrics"
      ],
      "execution_count": 36,
      "outputs": []
    },
    {
      "cell_type": "code",
      "metadata": {
        "colab": {
          "base_uri": "https://localhost:8080/"
        },
        "id": "t3ycsLr2Kggv",
        "outputId": "60123a3a-3909-44c5-a1e1-fe84e677e681"
      },
      "source": [
        "n = 7\n",
        "acc = np.zeros(n)\n",
        "loss = np.zeros(n)\n",
        "metric = np.zeros((n, 3))\n",
        "\n",
        "lr = 1e-6\n",
        "weight_d = 1e-4\n",
        "momentum = 0.5\n",
        "batch_size = 1\n",
        "ratio_label1 = 98/142 \n",
        "weight = torch.tensor([1-ratio_label1, ratio_label1]).cuda()\n",
        "criterion = nn.CrossEntropyLoss(weight)\n",
        "\n",
        "train_accuracys, training_losss, validation_accuracys, validation_losss = [0]*n, [0]*n, [0]*n, [0]*n\n",
        "\n",
        "for i in range(n):\n",
        "  print(\"i=\", i)\n",
        "\n",
        "  net = DeepSets_fixed_features(L=64, f=128, M=128, x=1, y=1, droprate=0.05)\n",
        "  net = net.to(device)\n",
        "  if device == 'cuda':\n",
        "    net = torch.nn.DataParallel(net)\n",
        "    cudnn.benchmark = True\n",
        "\n",
        "  optimizer = torch.optim.Adam(net.parameters(), lr=lr, weight_decay=weight_d) \n",
        "  #optimizer = torch.optim.SGD(net.parameters(), lr=lr, momentum=momentum, weight_decay=weight_d)\n",
        "  scheduler = optim.lr_scheduler.ReduceLROnPlateau(optimizer, mode='max', factor=0.8, patience=3, min_lr=1e-7, verbose=True)\n",
        "\n",
        "  train_accuracys[i], training_losss[i], validation_accuracys[i], validation_losss[i], acc[i], loss[i], metrics = train_deep_sets_with_prepared_features(net, epochs=25, prints=50)\n",
        "  metric[i] = np.array(metrics)\n",
        "\n",
        "print(\"mean \\t \\t std \\t \\t max\")\n",
        "print(\"balanced Accuracy \")\n",
        "print(acc.mean(), acc.std(), acc.max())\n",
        "print(\"f1-score\")\n",
        "print(metric.mean(axis=0)[0], metric.std(axis=0)[0], metric.max(axis=0)[0])\n",
        "print(\"Recall\")\n",
        "print(metric.mean(axis=0)[1], metric.std(axis=0)[1], metric.max(axis=0)[1])\n",
        "print(\"Precision\")\n",
        "print(metric.mean(axis=0)[2], metric.std(axis=0)[2], metric.max(axis=0)[2])\n",
        "print(\"BCE Loss\")\n",
        "print(loss.mean(), loss.std(), loss.min())"
      ],
      "execution_count": 40,
      "outputs": [
        {
          "output_type": "stream",
          "text": [
            "i= 0\n",
            "Epoch     5: reducing learning rate of group 0 to 8.0000e-07.\n",
            "Epoch    14: reducing learning rate of group 0 to 6.4000e-07.\n",
            "Epoch    18: reducing learning rate of group 0 to 5.1200e-07.\n",
            "Epoch    22: reducing learning rate of group 0 to 4.0960e-07.\n",
            "i= 1\n",
            "Epoch    13: reducing learning rate of group 0 to 8.0000e-07.\n",
            "Epoch    17: reducing learning rate of group 0 to 6.4000e-07.\n",
            "Epoch    25: reducing learning rate of group 0 to 5.1200e-07.\n",
            "i= 2\n",
            "Epoch     9: reducing learning rate of group 0 to 8.0000e-07.\n",
            "Epoch    13: reducing learning rate of group 0 to 6.4000e-07.\n",
            "Epoch    17: reducing learning rate of group 0 to 5.1200e-07.\n",
            "Epoch    21: reducing learning rate of group 0 to 4.0960e-07.\n",
            "Epoch    25: reducing learning rate of group 0 to 3.2768e-07.\n",
            "i= 3\n",
            "Epoch    12: reducing learning rate of group 0 to 8.0000e-07.\n",
            "Epoch    16: reducing learning rate of group 0 to 6.4000e-07.\n",
            "Epoch    20: reducing learning rate of group 0 to 5.1200e-07.\n",
            "Epoch    24: reducing learning rate of group 0 to 4.0960e-07.\n",
            "i= 4\n",
            "Epoch    12: reducing learning rate of group 0 to 8.0000e-07.\n",
            "Epoch    16: reducing learning rate of group 0 to 6.4000e-07.\n",
            "Epoch    24: reducing learning rate of group 0 to 5.1200e-07.\n",
            "i= 5\n",
            "Epoch     8: reducing learning rate of group 0 to 8.0000e-07.\n",
            "Epoch    12: reducing learning rate of group 0 to 6.4000e-07.\n",
            "Epoch    18: reducing learning rate of group 0 to 5.1200e-07.\n",
            "Epoch    22: reducing learning rate of group 0 to 4.0960e-07.\n",
            "i= 6\n",
            "Epoch     7: reducing learning rate of group 0 to 8.0000e-07.\n",
            "Epoch    11: reducing learning rate of group 0 to 6.4000e-07.\n",
            "Epoch    15: reducing learning rate of group 0 to 5.1200e-07.\n",
            "Epoch    20: reducing learning rate of group 0 to 4.0960e-07.\n",
            "Epoch    24: reducing learning rate of group 0 to 3.2768e-07.\n",
            "mean \t \t std \t \t max\n",
            "balanced Accuracy \n",
            "0.7540372670807454 0.02965797859953618 0.8130434782608695\n",
            "f1-score\n",
            "0.8502267573696145 0.02249529625440548 0.8749999999999999\n",
            "Recall\n",
            "0.8509316770186335 0.05624462818718889 0.9130434782608695\n",
            "Precision\n",
            "0.8529108986251843 0.027301190333707495 0.9047619047619048\n",
            "BCE Loss\n",
            "0.5413837441731066 0.02314640581027911 0.5052241251775713\n"
          ],
          "name": "stdout"
        }
      ]
    },
    {
      "cell_type": "code",
      "metadata": {
        "id": "hJP5XDwzxRqF"
      },
      "source": [
        "train_accuracys = np.array(train_accuracys)\n",
        "validation_accuracys = np.array(validation_accuracys)\n",
        "training_losss = np.array(training_losss)\n",
        "validation_losss = np.array(validation_losss)\n",
        "\n",
        "mean_t_acc = train_accuracys.mean(axis=0)\n",
        "std_t_acc = train_accuracys.std(axis=0)\n",
        "\n",
        "mean_v_acc = validation_accuracys.mean(axis=0)\n",
        "std_v_acc = validation_accuracys.std(axis=0)\n",
        "\n",
        "mean_t_loss = training_losss.mean(axis=0)\n",
        "std_t_loss = training_losss.std(axis=0)\n",
        "\n",
        "mean_v_loss = validation_losss.mean(axis=0)\n",
        "std_v_loss = validation_losss.std(axis=0)"
      ],
      "execution_count": 41,
      "outputs": []
    },
    {
      "cell_type": "code",
      "metadata": {
        "colab": {
          "base_uri": "https://localhost:8080/",
          "height": 541
        },
        "id": "gjeop_HwQbyz",
        "outputId": "9c981ea3-5f5c-4175-9e15-b39d0a9cd74a"
      },
      "source": [
        "epoch = len(mean_t_acc)\n",
        "\n",
        "plt.plot(range(epoch), mean_t_acc, label='train', color='b')\n",
        "plt.fill_between(range(epoch),  mean_t_acc - std_t_acc, mean_t_acc + std_t_acc, alpha=0.1, color='b')\n",
        "plt.plot(range(epoch), mean_v_acc, label='val', color='r')\n",
        "plt.fill_between(range(epoch),  mean_v_acc - std_v_acc, mean_v_acc + std_v_acc, alpha=0.1, color='r')\n",
        "plt.legend()\n",
        "plt.xlabel('epoch')\n",
        "plt.ylabel('balanced accuracy')\n",
        "plt.show()\n",
        "\n",
        "plt.plot(range(epoch), mean_t_loss, label='train', color='b')\n",
        "plt.fill_between(range(epoch),  mean_t_loss - std_t_loss, mean_t_loss + std_t_loss, alpha=0.1, color='b')\n",
        "plt.plot(range(epoch), mean_v_loss, label='val', color='r')\n",
        "plt.fill_between(range(epoch),  mean_v_loss - std_v_loss, mean_v_loss + std_v_loss, alpha=0.1, color='r')\n",
        "plt.legend()\n",
        "plt.xlabel('epoch')\n",
        "plt.ylabel('BCE Loss')\n",
        "plt.show()"
      ],
      "execution_count": 42,
      "outputs": [
        {
          "output_type": "display_data",
          "data": {
            "image/png": "[encoded data removed]",
            "text/plain": [
              "<Figure size 432x288 with 1 Axes>"
            ]
          },
          "metadata": {
            "tags": [],
            "needs_background": "light"
          }
        },
        {
          "output_type": "display_data",
          "data": {
            "image/png": "[encoded data removed]",
            "text/plain": [
              "<Figure size 432x288 with 1 Axes>"
            ]
          },
          "metadata": {
            "tags": [],
            "needs_background": "light"
          }
        }
      ]
    },
    {
      "cell_type": "markdown",
      "metadata": {
        "id": "GQGFLiRKjy9T"
      },
      "source": [
        "#### Final training"
      ]
    },
    {
      "cell_type": "code",
      "metadata": {
        "id": "Eeg0gtPmjpLl",
        "colab": {
          "base_uri": "https://localhost:8080/"
        },
        "outputId": "c91cc9f0-b5d7-487f-f4c8-6e30e8e4d234"
      },
      "source": [
        "print('Building model')\n",
        "net = DeepSets_fixed_features(L=64, f=128, M=128, x=1, y=1, droprate=0.05)\n",
        "net = net.to(device)\n",
        "if device == 'cuda':\n",
        "  net = torch.nn.DataParallel(net)\n",
        "  cudnn.benchmark = True\n",
        "\n",
        "#setting the hyper-parameters\n",
        "lr = 1e-6\n",
        "weight_d = 1e-4\n",
        "momentum = 0.5\n",
        "batch_size = 1\n",
        "\n",
        "#Opimizer and Loss criterion\n",
        "ratio_label1 = 98/142 \n",
        "weight = torch.tensor([1-ratio_label1, ratio_label1]).cuda()\n",
        "criterion = nn.CrossEntropyLoss(weight)\n",
        "\n",
        "optimizer = torch.optim.Adam(net.parameters(), lr=lr, weight_decay=weight_d) \n",
        "#optimizer = torch.optim.SGD(net.parameters(), lr=lr, momentum=momentum, weight_decay=weight_d)\n",
        "scheduler = optim.lr_scheduler.ReduceLROnPlateau(optimizer, mode='max', factor=0.8, patience=3, min_lr=1e-7, verbose=True)\n",
        "\n",
        "\n",
        "train_accuracy, training_loss, validation_accuracy, validation_loss, acc, loss, metrics = train_deep_sets_with_prepared_features(net, epochs=15, prints=1)"
      ],
      "execution_count": 45,
      "outputs": [
        {
          "output_type": "stream",
          "text": [
            "Building model\n",
            "Epoch [1/15],\t Train Loss: 0.6915, \t Train accuracy=0.4778%,\t Validation Loss: 0.6295,\n",
            "           Validation Balanced accuracy=0.4848%, \t Validation F1 score=0.7692, \t Validation Recall=0.8696, \t Validation Precision=0.6897\n",
            "saved model...\n",
            "\n",
            "Epoch [2/15],\t Train Loss: 0.5508, \t Train accuracy=0.6028%,\t Validation Loss: 0.5737,\n",
            "           Validation Balanced accuracy=0.4848%, \t Validation F1 score=0.7692, \t Validation Recall=0.8696, \t Validation Precision=0.6897\n",
            "saved model...\n",
            "\n",
            "Epoch [3/15],\t Train Loss: 0.4421, \t Train accuracy=0.7347%,\t Validation Loss: 0.5409,\n",
            "           Validation Balanced accuracy=0.5196%, \t Validation F1 score=0.7234, \t Validation Recall=0.7391, \t Validation Precision=0.7083\n",
            "saved model...\n",
            "\n",
            "Epoch [4/15],\t Train Loss: 0.3659, \t Train accuracy=0.8278%,\t Validation Loss: 0.5240,\n",
            "           Validation Balanced accuracy=0.5913%, \t Validation F1 score=0.7660, \t Validation Recall=0.7826, \t Validation Precision=0.7500\n",
            "saved model...\n",
            "\n",
            "Epoch [5/15],\t Train Loss: 0.3089, \t Train accuracy=0.8583%,\t Validation Loss: 0.5159,\n",
            "           Validation Balanced accuracy=0.6913%, \t Validation F1 score=0.8000, \t Validation Recall=0.7826, \t Validation Precision=0.8182\n",
            "saved model...\n",
            "\n",
            "Epoch [6/15],\t Train Loss: 0.2631, \t Train accuracy=0.8764%,\t Validation Loss: 0.5111,\n",
            "           Validation Balanced accuracy=0.7630%, \t Validation F1 score=0.8444, \t Validation Recall=0.8261, \t Validation Precision=0.8636\n",
            "saved model...\n",
            "\n",
            "Epoch [7/15],\t Train Loss: 0.2255, \t Train accuracy=0.9014%,\t Validation Loss: 0.5101,\n",
            "           Validation Balanced accuracy=0.8130%, \t Validation F1 score=0.8636, \t Validation Recall=0.8261, \t Validation Precision=0.9048\n",
            "saved model...\n",
            "\n",
            "Epoch [8/15],\t Train Loss: 0.1936, \t Train accuracy=0.9319%,\t Validation Loss: 0.5111,\n",
            "           Validation Balanced accuracy=0.8130%, \t Validation F1 score=0.8636, \t Validation Recall=0.8261, \t Validation Precision=0.9048\n",
            "saved model...\n",
            "\n",
            "Epoch [9/15],\t Train Loss: 0.1658, \t Train accuracy=0.9444%,\t Validation Loss: 0.5127,\n",
            "           Validation Balanced accuracy=0.8130%, \t Validation F1 score=0.8636, \t Validation Recall=0.8261, \t Validation Precision=0.9048\n",
            "saved model...\n",
            "\n",
            "Epoch [10/15],\t Train Loss: 0.1416, \t Train accuracy=0.9569%,\t Validation Loss: 0.5144,\n",
            "           Validation Balanced accuracy=0.7630%, \t Validation F1 score=0.8444, \t Validation Recall=0.8261, \t Validation Precision=0.8636\n",
            "\n",
            "Epoch    11: reducing learning rate of group 0 to 8.0000e-07.\n",
            "Epoch [11/15],\t Train Loss: 0.1207, \t Train accuracy=0.9694%,\t Validation Loss: 0.5181,\n",
            "           Validation Balanced accuracy=0.7848%, \t Validation F1 score=0.8696, \t Validation Recall=0.8696, \t Validation Precision=0.8696\n",
            "\n",
            "Epoch [12/15],\t Train Loss: 0.1044, \t Train accuracy=0.9694%,\t Validation Loss: 0.5232,\n",
            "           Validation Balanced accuracy=0.7848%, \t Validation F1 score=0.8696, \t Validation Recall=0.8696, \t Validation Precision=0.8696\n",
            "\n",
            "Epoch [13/15],\t Train Loss: 0.0919, \t Train accuracy=0.9819%,\t Validation Loss: 0.5301,\n",
            "           Validation Balanced accuracy=0.7848%, \t Validation F1 score=0.8696, \t Validation Recall=0.8696, \t Validation Precision=0.8696\n",
            "\n",
            "Epoch [14/15],\t Train Loss: 0.0809, \t Train accuracy=1.0000%,\t Validation Loss: 0.5397,\n",
            "           Validation Balanced accuracy=0.7848%, \t Validation F1 score=0.8696, \t Validation Recall=0.8696, \t Validation Precision=0.8696\n",
            "\n",
            "Epoch    15: reducing learning rate of group 0 to 6.4000e-07.\n",
            "Epoch [15/15],\t Train Loss: 0.0718, \t Train accuracy=1.0000%,\t Validation Loss: 0.5501,\n",
            "           Validation Balanced accuracy=0.7848%, \t Validation F1 score=0.8696, \t Validation Recall=0.8696, \t Validation Precision=0.8696\n",
            "\n"
          ],
          "name": "stdout"
        }
      ]
    },
    {
      "cell_type": "markdown",
      "metadata": {
        "id": "Vx5qKN-Cjn4T"
      },
      "source": [
        "#### Testing"
      ]
    },
    {
      "cell_type": "code",
      "metadata": {
        "id": "Zkp4q1ZU8C1o"
      },
      "source": [
        "test_data = pd.read_csv(path_data + '/test_features_8192.csv')\n",
        "data = test_data[[f'image_features_{k}' for k in range(8192)]].values\n",
        "data = scaler.transform(data)\n",
        "aux_pca = pca.transform(data)\n",
        "\n",
        "aux = np.column_stack((test_data['ID_patient'], aux_pca.astype(np.float16)))\n",
        "test_pca = pd.DataFrame(data = aux, columns = ['ID_patient']+[f'pca_features_{k}' for k in range(nc)])\n",
        "\n",
        "test_patients = pd.unique(test_data['ID_patient'])"
      ],
      "execution_count": 46,
      "outputs": []
    },
    {
      "cell_type": "code",
      "metadata": {
        "id": "RmlXXC5B8uUq"
      },
      "source": [
        "output_file = open('kaggle1.csv', \"w\")\n",
        "output_file.write(\"ID,Predicted\\n\")\n",
        "\n",
        "for patient in test_patients:\n",
        "  bag = torch.tensor(test_pca.groupby('ID_patient').get_group(patient)[[f'pca_features_{k}' for k in range(nc)]].values.astype(np.float))\n",
        "  data = torch.Tensor(test_csv_preprocessed[['LYMPH_COUNT','DOB']].loc[test_csv_preprocessed[\"ID\"]==patient].values)\n",
        "  outputs = net(bag , data)\n",
        "  _, pred = outputs.max(1)\n",
        "  output_file.write(\"%s,%d\\n\" % (patient, pred.item()))\n",
        "\n",
        "output_file.close()\n",
        "print(\"Succesfully wrote \")"
      ],
      "execution_count": null,
      "outputs": []
    }
  ]
}